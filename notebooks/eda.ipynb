{
 "cells": [
  {
   "cell_type": "markdown",
   "source": [
    "# Exploratory data analysis\n",
    "Introduction to exploratory data analysis (EDA)."
   ],
   "metadata": {
    "collapsed": false
   }
  },
  {
   "cell_type": "markdown",
   "source": [
    "EDA is an approach to analyzing datasets to summarize their main characteristics, often with visual methods. EDA is used for seeing what the data can tell us before the modeling task [(source 1)](https://chartio.com/learn/data-analytics/what-is-exploratory-data-analysis/). It is used to explore the data, find different patterns, relations, and anomalies in the data using some statistical graphs and other visualization techniques, and possibly formulate hypotheses that could lead to new data collection and experiments [(source 2)](https://www.analyticsvidhya.com/blog/2021/08/how-to-perform-exploratory-data-analysis-a-guide-for-beginners/). More specifically, EDA enables analysts to:\n",
    "1. get maximum insights from a data set\n",
    "2. uncover underlying structure\n",
    "3. extract important variables from the dataset\n",
    "4. detect outliers and anomalies (if any)\n",
    "5. test underlying assumptions\n",
    "6. determine the optimal factor settings"
   ],
   "metadata": {
    "collapsed": false
   }
  },
  {
   "cell_type": "markdown",
   "source": [
    "## EDA steps and tools\n",
    "Practical steps in conducting EDA and frequently used EDA tools.\n",
    "Based on *pandas2020-main.Sales_Analysis_Pandas_P3_tutorial.ipynb* and *pandas2020-main.TED_Talks_Pandas_P3_tutorial.ipynb*.\n"
   ],
   "metadata": {
    "collapsed": false
   }
  },
  {
   "cell_type": "markdown",
   "source": [
    "Based on [this](https://stackoverflow.com/a/22149930/1899061), in all computations, `axis=...` refers to the axis **along which** the computation is done. By default, `axis=0`. This is consistent with the `numpy.mean` usage when axis is specified explicitly (in `numpy.mean`, `axis==None` by default, which computes the mean value over the flattened array), in which `axis=0` along the rows (namely, index in pandas), and `axis=1` along the columns.\n",
    "Note also that that `axis=0` indicates aggregating along rows and `axis=1` indicates aggregating along columns. This is consistent with how we index into a dataframe. In `df.iloc[<row>, <column>]`, `<row>` is in index position 0 and `<column>` is in index position 1. For added clarity, one may choose to specify `axis='index'` (instead of `axis=0`) or `axis='columns'` (instead of `axis=1`).\n",
    "**But**, `axis=0` means each row as a bulk - we manipulate a `pd.DataFrame` inter-row, instead of within-row. Likewise, 1 means each column as a bulk, i.e. we manipulate a `pd.DataFrame` inter-column instead of within-column. For example, `<pd.df>.drop(\"A\", axis=1)` will drop a whole column."
   ],
   "metadata": {
    "collapsed": false
   }
  },
  {
   "cell_type": "markdown",
   "source": [
    "### Creating a dataset\n",
    "Some typical ways to create a `pd.DataFrame` from scratch ([source](https://www.geeksforgeeks.org/different-ways-to-create-pandas-dataframe/)):\n",
    "- creating a `pd.DataFrame` from lists of lists: `pd.DataFrame([<list_1>, <list_2>, ...], columns=['<Col_1 name>', '<Col_2 name>', ...])`\n",
    "- creating a `pd.DataFrame` from a dictionary of lists: `pd.DataFrame({'<Col_1 name>': <list_1>, '<Col_2 name>': <list_2>, ...}`\n",
    "- creating a `pd.DataFrame` from a list of tuples returned by the `zip(0` function: `pd.DataFrame(zip([<list_1>, <list_2>, ...]), columns=['<Col_1 name>', '<Col_2 name>', ...])`\n",
    "- creating a `pd.DataFrame` from a dictionary of `pd.Series` objects: `pd.DataFrame({'<Col_1 name>': <pd.Series_1>, '<Col_2 name>': <pd.Series_2>, ...}`"
   ],
   "metadata": {
    "collapsed": false
   }
  },
  {
   "cell_type": "markdown",
   "source": [
    "### Saving a dataset\n",
    "- `<pd.DataFrame>.to_csv()`\n",
    "\n",
    "A [useful link](https://stackoverflow.com/a/56241457/1899061) explaining important parameters in calling `<pd.DataFrame>.to_csv()`.\n",
    "\n",
    "To avoid saving the `index` column of the `<pd.DataFrame>` object in the resulting `.csv` file, use `index=False` in the call to `<pd.DataFrame>.to_csv()` (see [this](https://stackoverflow.com/a/45141782/1899061))."
   ],
   "metadata": {
    "collapsed": false
   }
  },
  {
   "cell_type": "markdown",
   "source": [
    "### Reading a dataset\n",
    "- `pd.read_csv()`"
   ],
   "metadata": {
    "collapsed": false
   }
  },
  {
   "cell_type": "markdown",
   "source": [
    "### Initial examination and adaptations\n",
    "- `<pd.df>.shape`, `<pd.df>.head()`, `<pd.df>.tail()`, `<pd.df>.sample()`, `<pd.df>.dtypes`, `<pd.df>.info()`, `<pd.df>.describe()`\n",
    "- `<pd.df>.columns`, `<pd.df>.columns.values`, `<pd.df>.columns.values.tolist()`, `<pd.df>.values`\n",
    "- `<pd.df>.rename({'<column_1 old name>':'<column_1 new name>', '<column_2 old name>':'<column_2 new name>', ...}, axis='columns')`, `<pd.df>.columns = ['<column_1 name>', '<column_2 name>', ...]` (change the names of all columns in <pd.df>)\n",
    "- `ast.literal_eval()` (using Python's *ast* module to transform a string into a literal value, a list, a tuple or any other container object)"
   ],
   "metadata": {
    "collapsed": false
   }
  },
  {
   "cell_type": "markdown",
   "source": [
    "### Missing values and value counts\n",
    "- `<pd.df>.isna()` (`<pd.df>.isnull()`), `<pd.df>.isna().sum()` (`<pd.df>.isnull().sum`) ([example](https://www.analyticsvidhya.com/blog/2021/08/how-to-perform-exploratory-data-analysis-a-guide-for-beginners/))\n",
    "- `sb.heatmap()`, e.g. `sb.heatmap(<pd.df>.isnull(),cbar=False,cmap='viridis')` ([example](https://www.analyticsvidhya.com/blog/2021/08/how-to-perform-exploratory-data-analysis-a-guide-for-beginners/))\n",
    "- `<pd.df>['<column>'].value_counts()`, `<pd.df>['<column>'].value_counts(normalize=True)`, `<pd.Series>.dropna(how='all'/'any', inplace=True)`"
   ],
   "metadata": {
    "collapsed": false
   }
  },
  {
   "cell_type": "markdown",
   "source": [
    "### Examining individual data items, rows and columns\n",
    "- `<pd.df>.sample()`\n",
    "- Simple indexing and fancy indexing: `<pd.df>.iloc[]`, `<pd.df>.loc[]`\n",
    "- `<pd.df>.index`, `<pd.df>.index[<from>:<to>]`, `<pd.df>.reset_index(drop=True, inplace=True)`\n",
    "- Indexing using list of values: `<pd.df>.loc[<pd.df>.<column>.isin(<list of values>)]` (select those observations where the value of `<column>` is in the `<list of values>`)\n",
    "- Indexing in data stats: `<pd.df>.describe().loc['50%', '<column_name>']` (select the median of `<column_name>` from the `<pd.df>` stats computed by `describe()`)"
   ],
   "metadata": {
    "collapsed": false
   }
  },
  {
   "cell_type": "markdown",
   "source": [
    "### Grouping and sorting data\n",
    "- `<pd.df>['<column>'].unique()`, `<pd.df>['<column>'].nunique()`\n",
    "- `<pd.df>['<column>'].groupby()`, `<pd.df>['<column>'].groupby().get_group()`\n",
    "- `<pd.df>['<column>'].value_counts()`, `<pd.df>['<column>'].value_counts().sort_index()`, `<pd.df>['<column>'].value_counts().sort_index(inplace=True)`\n",
    "- `<pd.df>.sort_values(by='<column name>', ascending=False/True)`\n",
    "- `<pd.df>.groupby('<column>').<another column>.<f()>.sort_values(ascending=False)` (aggregate using function `f()`, e.g. `mean()`)\n",
    "- `<pd.df>.groupby('<column>').<another column>.agg(['<f1 name>', '<f2 name>', ...])` (aggregate using multiple functions, e.g. `mean()`, `count()`,...)\n",
    "\n",
    "If `sort_values()` is used after `agg(['f1 name>', '<f2 name>', ...])` (`agg(['<f1 name>', '<f2 name>', ...]).sort_values(by='<f name>', ascending=False)`), it must be passed one positional argument (`by='<f name>'`) before the optional `ascending=False`.\n"
   ],
   "metadata": {
    "collapsed": false
   }
  },
  {
   "cell_type": "markdown",
   "source": [
    "### Data transformations\n",
    "- `<pd.df>.describe()`\n",
    "- `pd.to_numeric(<pd.DataFrame object>['<column name>'], errors='coerce')`, `pd.DataFrame.to_numpy()`, `pd.Series.to_numpy()`, `pd.to_datetime()`, ...\n",
    "- `<pd.df>.<column>.apply(<f_name>)` (apply the <f_name> function to all elements of each element of the `<column>`; for example, each element of the `<column>` can be a list of other elements)\n"
   ],
   "metadata": {
    "collapsed": false
   }
  },
  {
   "cell_type": "markdown",
   "source": [
    "### Exploring correlations\n",
    "Explore correlations between the (numerical) columns.\n",
    "- `sb.heatmap()`\n",
    "- [Example](https://www.analyticsvidhya.com/blog/2021/08/how-to-perform-exploratory-data-analysis-a-guide-for-beginners/)"
   ],
   "metadata": {
    "collapsed": false
   }
  },
  {
   "cell_type": "markdown",
   "source": [
    "### Data visualization\n",
    "Plot some bargraphs, scatterplots, boxplots,...\n",
    "- [Example](https://www.analyticsvidhya.com/blog/2021/08/how-to-perform-exploratory-data-analysis-a-guide-for-beginners/)"
   ],
   "metadata": {
    "collapsed": false
   }
  },
  {
   "cell_type": "markdown",
   "source": [
    "### Other\n",
    "[Other interesting ideas and different ways of using the things from above](https://realpython.com/pandas-python-explore-dataset/#exploring-your-dataset) (see the rest from [that article](https://realpython.com/pandas-python-explore-dataset/) as well)."
   ],
   "metadata": {
    "collapsed": false
   }
  },
  {
   "cell_type": "markdown",
   "source": [
    "## Import and configure packages\n",
    "The `%run` magic does not work well in DataSpell, thus the following `import` statements are copied here from *import_packages.ipynb* (the last line is added subsequently):"
   ],
   "metadata": {
    "collapsed": false
   }
  },
  {
   "cell_type": "code",
   "execution_count": 1,
   "outputs": [],
   "source": [
    "%load_ext autoreload\n",
    "%autoreload 2\n",
    "\n",
    "%matplotlib inline\n",
    "\n",
    "%config IPCompleter.greedy=True\n",
    "\n",
    "import numpy as np\n",
    "import matplotlib as mpl\n",
    "import matplotlib.pyplot as plt\n",
    "plt.style.use('classic')\n",
    "import pandas as pd\n",
    "import seaborn as sb\n",
    "\n",
    "from plotnine import ggplot, aes, labs, geom_point, geom_line, geom_histogram, geom_bar, theme, theme_xkcd, element_text"
   ],
   "metadata": {
    "collapsed": false
   }
  },
  {
   "cell_type": "code",
   "execution_count": null,
   "outputs": [],
   "source": [
    "# %run \"import_packages.ipynb\""
   ],
   "metadata": {
    "collapsed": false
   }
  },
  {
   "cell_type": "markdown",
   "metadata": {},
   "source": [
    "## Creating simple datasets\n",
    "Some typical ways to create a `pd.DataFrame` from scratch ([source](https://www.geeksforgeeks.org/different-ways-to-create-pandas-dataframe/)):\n",
    "- creating a `pd.DataFrame` from a list of lists: `pd.DataFrame([<list_1>, <list_2>, ...], columns=['<Col_1 name>', '<Col_2 name>', ...])`\n",
    "- creating a `pd.DataFrame` from a dictionary of lists: `pd.DataFrame({'<Col_1 name>': <list_1>, '<Col_2 name>': <list_2>, ...}`\n",
    "- creating a `pd.DataFrame` from a list of tuples returned by the `zip()` function: `pd.DataFrame(zip([<list_1>, <list_2>, ...]), columns=['<Col_1 name>', '<Col_2 name>', ...])`\n",
    "- creating a `pd.DataFrame` from a dictionary of `pd.Series` objects: `pd.DataFrame({'<Col_1 name>': <pd.Series_1>, '<Col_2 name>': <pd.Series_2>, ...}`"
   ]
  },
  {
   "cell_type": "code",
   "execution_count": null,
   "outputs": [],
   "source": [
    "# From lists of lists, e.g. [[<song 1>, <author 1>], [<song 2>, <author 2>], ...]\n",
    "one = ['Something', 'George']\n",
    "two = ['Imagine', 'John']\n",
    "df = pd.DataFrame([one, two], columns=['Song', 'Author'])\n",
    "df"
   ],
   "metadata": {
    "collapsed": false
   }
  },
  {
   "cell_type": "code",
   "execution_count": null,
   "outputs": [],
   "source": [
    "# From a dictionary of lists, e.g.: {'Song': [<song 1>, <song 2>, ...], 'Author': [<author 1>, <author 1>, ...]\n",
    "s = ['Something', 'Imagine']\n",
    "a = ['George', 'John']\n",
    "df = pd.DataFrame({'Song': s, 'Author': a})\n",
    "df"
   ],
   "metadata": {
    "collapsed": false
   }
  },
  {
   "cell_type": "code",
   "execution_count": null,
   "outputs": [],
   "source": [
    "# From a list of tuples returned by the zip() function, e.g. zip(songs, authors)\n",
    "s = ['Something', 'Imagine']\n",
    "a = ['George', 'John']\n",
    "df = pd.DataFrame(zip(s, a), columns=['Song', 'Author'])\n",
    "df"
   ],
   "metadata": {
    "collapsed": false
   }
  },
  {
   "cell_type": "code",
   "execution_count": null,
   "outputs": [],
   "source": [
    "# From a dictionary of pd.Series objects, e.g. {'Song': <pd.Series songs>, 'Author': <pd.Series authors>}\n",
    "s = pd.Series(['Something', 'Imagine'])\n",
    "a = pd.Series(['George', 'John'])\n",
    "df = pd.DataFrame({'Song': s, 'Author': a})\n",
    "df"
   ],
   "metadata": {
    "collapsed": false
   }
  },
  {
   "cell_type": "markdown",
   "source": [
    "### Saving a dataset\n",
    "- `<pd.DataFrame>.to_csv()`\n",
    "\n",
    "A [useful link](https://stackoverflow.com/a/56241457/1899061) explaining important parameters in calling `<pd.DataFrame>.to_csv()`.\n",
    "\n",
    "To avoid saving the `index` column of the `<pd.DataFrame>` object in the resulting `.csv` file, use `index=False` in the call to `<pd.DataFrame>.to_csv()` (see [this](https://stackoverflow.com/a/45141782/1899061))."
   ],
   "metadata": {
    "collapsed": false
   }
  },
  {
   "cell_type": "code",
   "execution_count": null,
   "outputs": [],
   "source": [
    "# Create a pathlib.Path object (e.g., file) and pass it as the first argument to pd.to_csv()\n",
    "# (or just pass a string with the path, such as '../data/df.csv')\n",
    "\n",
    "# from settings import *\n",
    "# file = DATA_DIR / 'df.csv'\n",
    "# # print(file)\n",
    "# df.to_csv(file, encoding='utf-8', index=False)\n",
    "\n",
    "df.to_csv('../data/df.csv', encoding='utf-8', index=False)"
   ],
   "metadata": {
    "collapsed": false
   }
  },
  {
   "cell_type": "markdown",
   "source": [
    "### Reading a dataset\n",
    "- `pd.read_csv()`"
   ],
   "metadata": {
    "collapsed": false
   }
  },
  {
   "cell_type": "code",
   "execution_count": null,
   "outputs": [],
   "source": [
    "df = pd.read_csv('../data/df.csv')\n",
    "df"
   ],
   "metadata": {
    "collapsed": false
   }
  },
  {
   "cell_type": "markdown",
   "source": [
    "## Introducing The Beatles dataset"
   ],
   "metadata": {
    "collapsed": false
   }
  },
  {
   "cell_type": "markdown",
   "metadata": {},
   "source": [
    "### Read The Beatles songs *csv* file\n",
    "`pd.read_csv()` returns a `pd.DataFrame` object.\n",
    "\n",
    "As for specifying the path of the dataset properly, see [this](https://stackoverflow.com/questions/35384358/how-to-open-my-files-in-data-folder-with-pandas-using-relative-path) (more specifically, **both** [this](https://stackoverflow.com/a/35384414/1899061) and [this](https://stackoverflow.com/a/43600253/1899061))."
   ]
  },
  {
   "cell_type": "code",
   "execution_count": null,
   "metadata": {},
   "outputs": [],
   "source": [
    "# Get the songs as a pd.DataFrame object from 'data/The Beatles songs dataset, v1.csv', or from\n",
    "# '../data/The Beatles songs dataset, v1.csv', or '../../data/The Beatles songs dataset, v1.csv', or ...,\n",
    "# depending on where the csv file is located\n",
    "s = pd.read_csv('../data/The Beatles songs dataset, v1.csv')\n",
    "s"
   ]
  },
  {
   "cell_type": "markdown",
   "source": [
    "### Explore the dataset (first steps)"
   ],
   "metadata": {
    "collapsed": false
   }
  },
  {
   "cell_type": "markdown",
   "source": [
    "##### Initial examination and adaptations\n",
    "- `<pd.df>.shape`, `<pd.df>.head()`, `<pd.df>.tail()`, `<pd.df>.sample()`, `<pd.df>.dtypes`, `<pd.df>.info()`, `<pd.df>.describe()`\n",
    "- `<pd.df>.columns`, `<pd.df>.columns.values`, `<pd.df>.columns.values.tolist()` (or `<pd.df>.columns.values.to_list()`), `<pd.df>.values`\n",
    "- `<pd.df>.rename({'<column_1 old name>':'<column_1 new name>', '<column_2 old name>':'<column_2 new name>', ...}, axis='columns')`, `<pd.df>.columns = ['<column_1 name>', '<column_2 name>', ...]` (change the names of all columns in <pd.df>)\n",
    "- `ast.literal_eval()` (using Python's *ast* module to transform a string into a literal value, a list, a tuple or any other container object)"
   ],
   "metadata": {
    "collapsed": false
   }
  },
  {
   "cell_type": "markdown",
   "source": [
    "###### A sneak peek into the dataset\n",
    "- `<pd.df>.shape`, `<pd.df>.head()`, `<pd.df>.tail()`, `<pd.df>.sample()`, `<pd.df>.dtypes`, **<u>`<pd.df>.info()`**</u>, `<pd.df>.describe()` (shows descriptive statistics for numerical columns only)."
   ],
   "metadata": {
    "collapsed": false
   }
  },
  {
   "cell_type": "code",
   "execution_count": null,
   "outputs": [],
   "source": [
    "display(s.shape)\n",
    "display(s.head())\n",
    "display(s.tail())\n",
    "display(s.sample())\n",
    "display(s.dtypes)\n",
    "display(s.info())\n",
    "display(s.describe())"
   ],
   "metadata": {
    "collapsed": false
   }
  },
  {
   "cell_type": "markdown",
   "source": [
    "###### Columns\n",
    "- `<pd.df>.columns`, `<pd.df>.columns.values`, `<pd.df>.columns.values.tolist()` (or `<pd.df>.columns.values.to_list()`), `<pd.df>.values`\n",
    "\n",
    "Show the columns of the `songs` object (which is a `pd.DataFrame` object)."
   ],
   "metadata": {
    "collapsed": false
   }
  },
  {
   "cell_type": "code",
   "execution_count": null,
   "outputs": [],
   "source": [
    "# Get the columns as a pd.Index object, using <pd.df>.columns\n",
    "display(s.columns)\n",
    "# Get the columns as a list, using list(<pd.df>.columns)\n",
    "display(list(s.columns))\n",
    "# Get the columns as a numpy.ndarray object, using <pd.df>.columns.values or np.array(<pd.df>.columns)\n",
    "display(s.columns.values)\n",
    "# Get the columns as a list, using <pd.df>.columns.tolist() or <pd.df>.columns.to_list()\n",
    "display(s.columns.to_list())\n",
    "# Get the values of all items in the dataset as a numpy.ndarray of lists of the values in each item, using <pd.df>.values (the type is numpy.ndarray)\n",
    "display(s.values)"
   ],
   "metadata": {
    "collapsed": false
   }
  },
  {
   "cell_type": "markdown",
   "source": [
    "###### Renaming columns\n",
    "- `<pd.df>.rename(columns={'<column_1 old name>':'<column_1 new name>', '<column_2 old name>':'<column_2 new name>', ...}, inplace=True)`, or\n",
    "- `<pd.df>.rename({'<column_1 old name>':'<column_1 new name>', '<column_2 old name>':'<column_2 new name>', ...}, axis='columns', inplace=True)`;\n",
    "- `<pd.df>.columns = ['<column_1 name>', '<column_2 name>', ...]` (change the names of all columns in `<pd.df>`)"
   ],
   "metadata": {
    "collapsed": false
   }
  },
  {
   "cell_type": "code",
   "execution_count": null,
   "outputs": [],
   "source": [
    "# Rename the Duration column to Length and Genre to Gen\n",
    "s.rename(columns={'Duration': 'Time'}, inplace=True)\n",
    "display(s.sample(10))\n",
    "# Rename the Length column back to Duration and Gen back to Genre\n",
    "s.rename(columns={'Time': 'Duration'}, inplace=True)\n",
    "display(s.sample(10))"
   ],
   "metadata": {
    "collapsed": false
   }
  },
  {
   "cell_type": "markdown",
   "source": [
    "##### Missing values and value counts\n",
    "- `sb.heatmap()`, e.g. `sb.heatmap(<pd.df>.isna(),cbar=False,cmap='viridis')` ([example](https://www.analyticsvidhya.com/blog/2021/08/how-to-perform-exploratory-data-analysis-a-guide-for-beginners/))\n",
    "- `<pd.df>.isna()` (`<pd.df>.isnull()`), `<pd.df>.isna().sum()` (`<pd.df>.isnull().sum`) ([example](https://www.analyticsvidhya.com/blog/2021/08/how-to-perform-exploratory-data-analysis-a-guide-for-beginners/))\n",
    "- `<pd.df>['<column>'].value_counts()`, `<pd.df>['<column>'].value_counts(normalize=True)`, `<pd.Series>.dropna(how='all'/'any', inplace=True)`\n",
    "\n",
    "The `cmap` parameter of `sb.heatmap()` denotes a [Matplotlib colormap](https://matplotlib.org/stable/tutorials/colors/colormaps.html#classes-of-colormaps) (`viridis`, `cividis`, `tab20`, `winter`, `BuPu_r`, `ocean`,...)."
   ],
   "metadata": {
    "collapsed": false
   }
  },
  {
   "cell_type": "code",
   "execution_count": null,
   "outputs": [],
   "source": [
    "# Display the heatmap (missing values) of The Beatles songs dataset (demonstrate using sb.heatmap() vs. sb.heatmap();)\n",
    "sb.heatmap(s.isna(), cbar=False, cmap='viridis');"
   ],
   "metadata": {
    "collapsed": false
   }
  },
  {
   "cell_type": "markdown",
   "source": [
    "How many missing values are there? (`<pd.df>.isna().sum()` for all columns, `<pd.df>.['<column>'].isna().sum()` for a specific column, `<pd.df>.[['<column1>', 'column2', ...]].isna().sum()` for selected multiple columns; `isnull()` is the same as `isna()`, and `isna()` is used more often)."
   ],
   "metadata": {
    "collapsed": false
   }
  },
  {
   "cell_type": "code",
   "execution_count": null,
   "outputs": [],
   "source": [
    "# display(s.isna())\n",
    "display(s.isna().sum())\n",
    "# display(s.info())                 # <pd.df>.info() returns None, and it is printed after the info part\n",
    "s.info()                            # None is not printed in this case"
   ],
   "metadata": {
    "collapsed": false
   }
  },
  {
   "cell_type": "markdown",
   "source": [
    "### Examining individual data items, rows and columns\n",
    "- `<pd.df>.sample()`\n",
    "- Simple indexing and fancy indexing: `<pd.df>.iloc[]`, `<pd.df>.loc[]`\n",
    "- `<pd.df>.index`, `<pd.df>.index[<from>:<to>]`, `<pd.df>.reset_index(drop=True, inplace=True)`\n",
    "- Indexing using list of values: `<pd.df>.loc[<pd.df>.<column>.isin(<list of values>)]` (select those observations where the value of <column> is in the `<list of values>`)\n",
    "- Indexing in data stats: `<pd.df>.describe().loc['50%', '<column_name>']` (select the median of `<column_name>` from the `<pd.df>` stats computed by `describe()`)"
   ],
   "metadata": {
    "collapsed": false
   }
  },
  {
   "cell_type": "markdown",
   "source": [
    "Take a sample of the dataset to get a feeling of what's in there."
   ],
   "metadata": {
    "collapsed": false
   }
  },
  {
   "cell_type": "code",
   "execution_count": null,
   "outputs": [],
   "source": [
    "s.sample(10)"
   ],
   "metadata": {
    "collapsed": false
   }
  },
  {
   "cell_type": "markdown",
   "source": [
    "What are the songs from 1958-1960?\n",
    "Return a new dataframe representing these songs. Reset its index to start from 0 (`<pd.df>.reset_index(drop=True, inplace=True)`; `drop=True` can be omitted in this case)."
   ],
   "metadata": {
    "collapsed": false
   }
  },
  {
   "cell_type": "code",
   "execution_count": null,
   "outputs": [],
   "source": [
    "df = s.loc[s.Year.isin([1958, 1959, 1960]), ['Title', 'Year']]\n",
    "display(df)\n",
    "df.reset_index(inplace=True)\n",
    "display(df)"
   ],
   "metadata": {
    "collapsed": false
   }
  },
  {
   "cell_type": "markdown",
   "source": [
    "What are the songs with missing `Album.debut` values?"
   ],
   "metadata": {
    "collapsed": false
   }
  },
  {
   "cell_type": "markdown",
   "source": [
    "Using `isna()`, `loc[]`, `iloc[]`, `len()` and `index`."
   ],
   "metadata": {
    "collapsed": false
   },
   "outputs": []
  },
  {
   "cell_type": "markdown",
   "source": [
    "Calling `loc[]` effectively means *creating a subset* (typically based on a relational or logical expression over one or more columns of the dataset). In other words, `loc[]` creates a *slice* of the dataframe, so the type of the result is `<pd.df>`.\n",
    "\n",
    "Note that `loc[]` works as `loc[<selected rows>, <selected columns>]`. The indices `<selected rows>` and `<selected columns>` can be created either directly in `loc[]` or beforehand.\n",
    "\n",
    "If defining the <selected rows> index to be used with `loc[]` subsequently, it is a good practice to define it as a boolean *mask* over a single column, like `<pd.df>['<column>'].isna()`, or as a logical expression in which each chunk is a relational expression over a single column, e.g. `<pd.df>['<column1>'].isna() & <pd.df>['<column2>'] < 23`. The result will be a subset of the original dataframe (i.e., another `<pd.df>`)."
   ],
   "metadata": {
    "collapsed": false
   }
  },
  {
   "cell_type": "markdown",
   "source": [
    "Defining the relevant index with a statement like `<pd.df>.loc[<pd.df>['<column>'].isna()].index` is a good starting point when using `iloc[]` subsequently.\n",
    "\n",
    "If using `iloc[]`, don't forget the `.index` chunk in the statement used to create the index (such as `<pd.df>.loc[<pd.df>['<column>'].isna()].index`). Without it, the result is another `<pd.df>`."
   ],
   "metadata": {
    "collapsed": false
   }
  },
  {
   "cell_type": "code",
   "execution_count": null,
   "outputs": [],
   "source": [
    "# Define i_iloc, the index to be used with iloc[]\n",
    "# iloc[] can be used conveniently here if the relevant index is already defined with <pd.df>.loc[<pd.df>['<column>'].isna()].index;\n",
    "# remember that the second index in iloc[] must be a number too (the relevant column index)\n",
    "i_iloc = s.loc[s['Album.debut'].isna()].index\n",
    "display(i_iloc)\n",
    "# Define i_loc, the index (boolean mask) to be used with loc[]\n",
    "i_loc = s['Album.debut'].isna()\n",
    "display(i_loc)\n",
    "display(i_loc.sample(10))\n",
    "display(s.loc[i_loc, ['Title', 'Album.debut']])\n",
    "# display(songs.loc[i_loc.index, ['Title', 'Album.debut']])\n",
    "# display(songs.iloc[i_iloc, [0, 2]])\n",
    "display(s.iloc[i_iloc, [0, 2]])"
   ],
   "metadata": {
    "collapsed": false
   }
  },
  {
   "cell_type": "markdown",
   "source": [
    "Replace `NaN` values in `Album.debut` with 'No' (these songs have not appeared on any of the official albums)."
   ],
   "metadata": {
    "collapsed": false
   }
  },
  {
   "cell_type": "code",
   "execution_count": null,
   "outputs": [],
   "source": [
    "# Make the replacement and display it\n",
    "i_loc = s['Album.debut'].isna()\n",
    "s.loc[i_loc, 'Album.debut'] = 'No'\n",
    "display(s.loc[i_loc, ['Title', 'Album.debut']])"
   ],
   "metadata": {
    "collapsed": false
   }
  },
  {
   "cell_type": "markdown",
   "source": [
    "Double-check the missing values now:"
   ],
   "metadata": {
    "collapsed": false
   }
  },
  {
   "cell_type": "code",
   "execution_count": null,
   "outputs": [],
   "source": [
    "# Use <pd.df>.isna().sum() or sb.heatmap(<pd.df>.isna(), cmap='...')\n",
    "display(s.isna().sum())\n",
    "sb.heatmap(s.isna(), cmap='cividis', cbar=False);"
   ],
   "metadata": {
    "collapsed": false
   }
  },
  {
   "cell_type": "markdown",
   "source": [
    "How many songs from The Beatles early years are there?"
   ],
   "metadata": {
    "collapsed": false
   }
  },
  {
   "cell_type": "code",
   "execution_count": null,
   "outputs": [],
   "source": [
    "# Define early years using a list comprehension\n",
    "early_years = [y for y in range(min(s.Year), 1963)]\n",
    "display(early_years)\n",
    "# Display the songs from the early years using a combination of <pd.df>.loc[] and isin()\n",
    "display(s.loc[s.Year.isin(early_years), ['Title', 'Year']])"
   ],
   "metadata": {
    "collapsed": false
   }
  },
  {
   "cell_type": "markdown",
   "source": [
    "### Grouping and sorting data\n",
    "- `<pd.df>['<column>'].unique()`, `<pd.df>['<column>'].nunique()`\n",
    "- `<pd.df>.<column>.groupby()`, `<pd.df>.groupby('<column>')`, `<pd.df>.groupby('<column>').get_group(<value>)`\n",
    "- `<pd.df>['<column>'].value_counts()`, `<pd.df>['<column>'].value_counts().sort_index()`, `<pd.df>['<column>'].value_counts().sort_index(inplace=True)`\n",
    "- `<pd.df>.sort_values(by='<column name>', ascending=False/True)`\n",
    "- `<pd.df>.groupby('<column>').<another column>.<f()>.sort_values(ascending=False)` (aggregate using function `f()`, e.g. `mean()`)\n",
    "- `<pd.df>.groupby('<column>').<another column>.agg(['<f1 name>', '<f2 name>', ...])` (aggregate using multiple functions, e.g. `mean()`, `count()`,...)\n",
    "\n",
    "If `sort_values()` is used after `agg([<'f1 name>', '<f2 name>', ...])` (`agg(['<f1 name>', '<f2 name>', ...]).sort_values(by='<f name>', ascending=False)`), it must be passed one positional argument (`by='<f name>'`) before the optional `ascending=False`.\n"
   ],
   "metadata": {
    "collapsed": false
   }
  },
  {
   "cell_type": "markdown",
   "source": [
    "How many unique values for `Year` are there in the dataset (`<pd.df>['<column>'].unique()`, `<pd.df>['<column>'].nunique()`)?"
   ],
   "metadata": {
    "collapsed": false
   }
  },
  {
   "cell_type": "code",
   "execution_count": null,
   "outputs": [],
   "source": [
    "display(s.Year.unique())\n",
    "display(s.Year.nunique())"
   ],
   "metadata": {
    "collapsed": false
   }
  },
  {
   "cell_type": "markdown",
   "source": [
    "Group the songs in the dataset by the year of release (`<pd.df>.<column>.groupby()`, `<pd.df>.groupby('<column>')`, `<pd.df>.groupby('<column>').get_group(<value>)`). The result can be `songs_by_year`. Display it, show its type, and explore its individual groups and their types."
   ],
   "metadata": {
    "collapsed": false
   }
  },
  {
   "cell_type": "code",
   "execution_count": null,
   "outputs": [],
   "source": [
    "s_by_year = s.groupby('Year')\n",
    "# display(s_by_year)\n",
    "display(s_by_year.get_group(1963))\n",
    "display(type(s_by_year.get_group(1963)))"
   ],
   "metadata": {
    "collapsed": false
   }
  },
  {
   "cell_type": "markdown",
   "source": [
    "How many songs are there in the dataset for each `Year` (`<pd.df>['<column>'].value_counts()`, `<pd.df>['<column>'].value_counts()[<year>]`, `<pd.df>['<column>'].value_counts().sort_index()`)?\n",
    "\n",
    "Note that `value_counts()` returns a `pd.Series` object, with the index equal to `<pd.df>['<column>'].unique()` values."
   ],
   "metadata": {
    "collapsed": false
   }
  },
  {
   "cell_type": "code",
   "execution_count": null,
   "outputs": [],
   "source": [
    "display(s.Year.value_counts())\n",
    "display(s.Year.value_counts()[1968])\n",
    "display(s.Year.value_counts().sort_index())\n",
    "display(s.Year.value_counts().sort_values())\n",
    "display(s.Year.value_counts().sort_values(ascending=False))\n",
    "display(s.sort_values(by='Year', ascending=False))"
   ],
   "metadata": {
    "collapsed": false
   }
  },
  {
   "cell_type": "markdown",
   "source": [
    "Sort the songs from the dataset by the year of release (`<pd.df>.sort_values(by='<column name>', ascending=False/True)`).\n",
    "(It is also possible to use `inplace=True` in `sort_values()`, but it will change the order of songs in the dataset from that point on.)"
   ],
   "metadata": {
    "collapsed": false
   }
  },
  {
   "cell_type": "code",
   "execution_count": null,
   "outputs": [],
   "source": [
    "display(s.sort_values(by='Year', ascending=True))"
   ],
   "metadata": {
    "collapsed": false
   }
  },
  {
   "cell_type": "markdown",
   "source": [
    "Group the songs in the dataset by the year of release and display `mean` and/or `max` duration of the songs in each year, as well as the number (`count`) of songs in each year (`<pd.df>.groupby('<column>').<another column>.<f()>.sort_values(ascending=False)` (aggregate using function `f()`, e.g. `mean()`), `<pd.df>.groupby('<column>').<another column>.agg(['f1 name>', '<f2 name>', ...])` (aggregate using multiple functions, e.g. `mean()`, `count()`, `max()`,...)).\n",
    "If `sort_values()` is used after `agg([<'f1 name>', '<f2 name>', ...])` (`agg(['<f1 name>', '<f2 name>', ...]).sort_values(by='<f name>', ascending=False)`), it must be passed one positional argument (`by='<f name>'`) before the optional `ascending=False`."
   ],
   "metadata": {
    "collapsed": false
   }
  },
  {
   "cell_type": "code",
   "execution_count": null,
   "outputs": [],
   "source": [
    "display(s_by_year.Duration.mean())\n",
    "display(s_by_year.Duration.mean().sort_values(ascending=False))\n",
    "display(s_by_year.Duration.agg(['count', 'max', 'min']).sort_values(by='count', ascending=False))"
   ],
   "metadata": {
    "collapsed": false
   }
  },
  {
   "cell_type": "markdown",
   "source": [
    "### Data visualization\n",
    "Plot some scatterplots, line plots, bar graphs, histograms, scatterplots, box plots, violins, heatmaps,...\n",
    "[Example](https://www.analyticsvidhya.com/blog/2021/08/how-to-perform-exploratory-data-analysis-a-guide-for-beginners/)\n",
    "\n",
    "[Matplotlib examples](https://matplotlib.org/stable/gallery/index.html)\n",
    "[Seaborn examples](https://seaborn.pydata.org/examples/index.html) (see also [The Python Graph Gallery](https://www.python-graph-gallery.com/); it has a very neat user interface!)\n",
    "[Plotnine examples](https://plotnine.readthedocs.io/en/stable/api.html) (click on any element for its API and examples)\n",
    "\n",
    "<u>**Note that it is also possible to**</u> <u>**[plot lines, bargraphs,... with Pandas only](https://pandas.pydata.org/docs/reference/api/pandas.DataFrame.plot.line.html)**</u> (although in such cases Pandas interacts with Matplotlib under the surface)."
   ],
   "metadata": {
    "collapsed": false
   }
  },
  {
   "cell_type": "markdown",
   "source": [
    "##### Scatterplot"
   ],
   "metadata": {
    "collapsed": false
   }
  },
  {
   "cell_type": "markdown",
   "source": [
    "Read a dataset.\n",
    "\n",
    "`pd.read_csv()` returns a `pd.DataFrame` object.\n",
    "\n",
    "As for specifying the path of the dataset properly, see [this](https://stackoverflow.com/questions/35384358/how-to-open-my-files-in-data-folder-with-pandas-using-relative-path) (more specifically, **both** [this](https://stackoverflow.com/a/35384414/1899061) and [this](https://stackoverflow.com/a/43600253/1899061))."
   ],
   "metadata": {
    "collapsed": false
   }
  },
  {
   "cell_type": "code",
   "execution_count": 2,
   "outputs": [],
   "source": [
    "# Get the songs as a pd.DataFrame object from 'data/The Beatles songs dataset, v2.csv', or from\n",
    "# '../data/The Beatles songs dataset, v2.csv', or '../../data/The Beatles songs dataset, v2.csv', or ...,\n",
    "# depending on where the csv file is located\n",
    "s = pd.read_csv('../data/The Beatles songs dataset, v1.csv')"
   ],
   "metadata": {
    "collapsed": false
   }
  },
  {
   "cell_type": "markdown",
   "source": [
    "Check for missing values (use, e.g., `sb.heatmap(<pd.df>.isna(), cbar=False, cmap='viridis')`)."
   ],
   "metadata": {
    "collapsed": false
   }
  },
  {
   "cell_type": "code",
   "execution_count": null,
   "outputs": [],
   "source": [
    "sb.heatmap(s.isna(), cmap='viridis', cbar=False);"
   ],
   "metadata": {
    "collapsed": false
   }
  },
  {
   "cell_type": "markdown",
   "source": [
    "Scatterplot the relationship between `Duration` and `Other.releases`."
   ],
   "metadata": {
    "collapsed": false
   }
  },
  {
   "cell_type": "markdown",
   "source": [
    "To set the ranges of values on x-axis and y-axis (`Duration`, `Other.releases`), check the max values or run `describe()`."
   ],
   "metadata": {
    "collapsed": false
   }
  },
  {
   "cell_type": "code",
   "execution_count": null,
   "outputs": [],
   "source": [
    "# display(type(s.describe()))\n",
    "# s[['Duration', 'Other.releases']]\n",
    "s.describe()[['Duration', 'Other.releases']]"
   ],
   "metadata": {
    "collapsed": false
   }
  },
  {
   "cell_type": "markdown",
   "source": [
    "###### 1. Matplotlib version"
   ],
   "metadata": {
    "collapsed": false
   }
  },
  {
   "cell_type": "markdown",
   "source": [
    "[Matplotlib scatterplot example](https://matplotlib.org/stable/gallery/shapes_and_collections/scatter.html)\n",
    "\n",
    "Use the following syntax:\n",
    "`ax = plt.axes()`\n",
    "`ax.set(xlim=(<from>, <to>), ylim=(<from>, <to>), xlabel='<xlabel>', ylabel='<ylabel>', title='<title>')`\n",
    "`ax.scatter(<pd.df>['<X>'], <pd.df>['<Y>'], marker='<marker type>', c='<color>', edgecolors='<edgecolor>', s=<marker size>);`\n",
    "The color parameter (`c`) is optional; if present, it should be a scalar or a sequence of length consistent with the lengths of `<X>` and `<Y>` (`(<X>, <Y>)` points). The `marker` parameter is optional as well. Both `c` and `marker` have defaults. For other values of `c` and `marker`, see [this](https://matplotlib.org/stable/gallery/color/named_colors.html) and [this](https://matplotlib.org/stable/api/_as_gen/matplotlib.markers.MarkerStyle.html#matplotlib.markers.MarkerStyle), respectively. A good value for `s` is 30-40 for 200-300 markers on the plot.\n",
    "\n",
    "Alternatively:\n",
    "`ax.plot(<pd.df>['<X>'], <pd.df>['<Y>'], marker='<marker type>', color='<color>', linestyle='');`\n",
    "The `linestyle=''` parameter is essential for plotting the dots only - omitting it means that the connecting lines are plotted as well."
   ],
   "metadata": {
    "collapsed": false
   }
  },
  {
   "cell_type": "code",
   "execution_count": null,
   "outputs": [],
   "source": [
    "ax = plt.axes()\n",
    "ax.set(xlabel='Song duration', ylabel='No. of other releases', title='Other releases / Duration',\n",
    "       xlim=(0, 510), ylim=(0, 60))\n",
    "# ax.scatter(s.Duration, s['Other.releases'], );                    # basic version first\n",
    "ax.scatter(s.Duration, s['Other.releases'], marker='^', c='yellow', edgecolor='black', s=35);"
   ],
   "metadata": {
    "collapsed": false
   }
  },
  {
   "cell_type": "markdown",
   "source": [
    "###### 2. Plotnine version\n",
    "[Plotnine scatterplot example](https://plotnine.readthedocs.io/en/stable/generated/plotnine.geoms.geom_point.html#plotnine.geoms.geom_point)\n",
    "\n",
    "In *Plotnine*, the syntax for setting the ranges on x and y axes is `xlim(<from>, <to>)`, `ylim(<from>, <to>)`."
   ],
   "metadata": {
    "collapsed": false
   }
  },
  {
   "cell_type": "markdown",
   "source": [
    "If `<x>` and `<y>` values are not in a dataframe columns (`<X>` and `<Y>`) already, create a minimal dataframe to support plotting (`<df> = pd.DataFrame({'<X>': <x>, '<Y>': <y>})`)."
   ],
   "metadata": {
    "collapsed": false
   }
  },
  {
   "cell_type": "code",
   "execution_count": null,
   "outputs": [],
   "source": [
    "df = s[['Duration', 'Other.releases']]"
   ],
   "metadata": {
    "collapsed": false
   }
  },
  {
   "cell_type": "markdown",
   "source": [
    "Use `ggplot` as:\n",
    "\n",
    "`(`\n",
    "&emsp;&emsp;`ggplot(<df>, aes(x='<X>', y='<Y>) +`\n",
    "&emsp;&emsp;`geom_point(color='<color>', fill='<fill color>', shape='<shape>', size=<size>) +`\n",
    "&emsp;&emsp;`labs(x='...', y='...', title='...') ).draw();`\n",
    "\n",
    "The `color`, `fill` and `shape` parameters have defaults. The other values of these parameters are the same as in Matplotlib (see [this](https://matplotlib.org/stable/gallery/color/named_colors.html) and [this](https://matplotlib.org/stable/api/_as_gen/matplotlib.markers.MarkerStyle.html#matplotlib.markers.MarkerStyle), respectively).\n",
    "\n",
    "**Note:** `aes(x='<X>', y='<Y>)` shows compiler errors but works anyway; `aes('<X>', '<Y>)` does not show any compiler error. However, `labs(x='...', y='...', title='...')` shows compiler errors regardless of `x=...`, `y=...`, ..., but works only *with* `x=...`, `y=...`, ..."
   ],
   "metadata": {
    "collapsed": false
   }
  },
  {
   "cell_type": "code",
   "execution_count": null,
   "outputs": [],
   "source": [
    "(\n",
    "    ggplot(df, aes(x='Duration', y='Other.releases')) +\n",
    "           geom_point(fill='navajowhite', color='green', shape='o', size=3) +\n",
    "           labs(x='Duration', y='Other.releases', title='Other releases / Duration')\n",
    ").draw();"
   ],
   "metadata": {
    "collapsed": false
   }
  },
  {
   "cell_type": "markdown",
   "source": [
    "###### 3. A brief analysis of the plot: What are the shortest/longest songs and their durations?"
   ],
   "metadata": {
    "collapsed": false
   }
  },
  {
   "cell_type": "code",
   "execution_count": null,
   "outputs": [],
   "source": [
    "# display(<pd.df>['column'] <= <value>)                                    # Boolean mask\n",
    "# display(type(<pd.df>['column'] <= <value>))                              # pd.Series\n",
    "# display(<pd.df>[<pd.df>['column'] <= <value>]['column to to display'])   # select one column\n",
    "# display(<pd.df>[<pd.df>['column'] <= <value>][['column 1  to to display', 'column 2 to display',...]])   # select multiple columns\n",
    "display(s[s.Duration > 400]['Title'])\n",
    "display(s[s.Duration > 400][['Title', 'Duration']])\n",
    "\n",
    "# Try this also with .loc[], as well as with an explicitly set index and with .index\n",
    "display(s.loc[s.Duration > 400, 'Title'])\n",
    "display(s.loc[s.Duration > 400, ['Title', 'Duration']])\n",
    "\n",
    "# What's a specific song indicated on the scatterplot, e.g. a very long one?\n",
    "\n",
    "# i_loc = (400 < s.Duration) and (s.Duration < 450)     # throws ValueError\n",
    "i_loc = (400 < s.Duration) & (s.Duration < 450)         # OK; must use bitwise logical operators with Pandas\n",
    "# display(i_loc)\n",
    "# i_loc = 400 < s.Duration\n",
    "# i_loc = 400 < s.Duration < 450                        # throws ValueError\n",
    "display(s.loc[i_loc, 'Title'])"
   ],
   "metadata": {
    "collapsed": false
   }
  },
  {
   "cell_type": "markdown",
   "source": [
    "##### Line plot"
   ],
   "metadata": {
    "collapsed": false
   }
  },
  {
   "cell_type": "markdown",
   "source": [
    "How many songs from 1964 are there?"
   ],
   "metadata": {
    "collapsed": false
   }
  },
  {
   "cell_type": "code",
   "execution_count": null,
   "outputs": [],
   "source": [
    "# Use <pd.df>['<column>'].value_counts(), <pd.df>['<column>'].value_counts()[<specific value> in <column>]\n",
    "display(s.Year.value_counts())\n",
    "display(s.Year.value_counts()[1966])"
   ],
   "metadata": {
    "collapsed": false
   }
  },
  {
   "cell_type": "markdown",
   "source": [
    "Sort this result by index: `pd.Series.sort_index()` (there is also `pd.DataFrame.sort_index()`)."
   ],
   "metadata": {
    "collapsed": false
   }
  },
  {
   "cell_type": "code",
   "execution_count": 3,
   "outputs": [
    {
     "data": {
      "text/plain": "1958     2\n1960     4\n1961     3\n1962    20\n1963    66\n1964    41\n1965    37\n1966    19\n1967    27\n1968    45\n1969    43\n1970     1\n1977     1\n1980     1\nName: Year, dtype: int64"
     },
     "metadata": {},
     "output_type": "display_data"
    }
   ],
   "source": [
    "# Define val_counts_sorted_by_index\n",
    "val_counts_sorted_by_index = s.Year.value_counts().sort_index()\n",
    "display(val_counts_sorted_by_index)"
   ],
   "metadata": {
    "collapsed": false
   }
  },
  {
   "cell_type": "markdown",
   "source": [
    "Preparation for plotting (`counts` on y-axis, `year` on x-axis): get the `np.ndarray` version of `val_counts_sorted_by_index`, as well as of its index.\n",
    "\n",
    "One way of doing it is to use `np.array()` over `val_counts_sorted_by_index.index` and `val_counts_sorted_by_index.values`. However, the same effect is achieved using only `val_counts_sorted_by_index.index` and `val_counts_sorted_by_index.values` (their type is `np.ndarray`)."
   ],
   "metadata": {
    "collapsed": false
   }
  },
  {
   "cell_type": "code",
   "execution_count": 4,
   "outputs": [
    {
     "data": {
      "text/plain": "array([ 2,  4,  3, 20, 66, 41, 37, 19, 27, 45, 43,  1,  1,  1],\n      dtype=int64)"
     },
     "metadata": {},
     "output_type": "display_data"
    },
    {
     "data": {
      "text/plain": "Int64Index([1958, 1960, 1961, 1962, 1963, 1964, 1965, 1966, 1967, 1968, 1969,\n            1970, 1977, 1980],\n           dtype='int64')"
     },
     "metadata": {},
     "output_type": "display_data"
    }
   ],
   "source": [
    "counts = val_counts_sorted_by_index.values\n",
    "display(counts)\n",
    "years = val_counts_sorted_by_index.index\n",
    "display(years)"
   ],
   "metadata": {
    "collapsed": false
   }
  },
  {
   "cell_type": "markdown",
   "source": [
    "And now plot it."
   ],
   "metadata": {
    "collapsed": false
   }
  },
  {
   "cell_type": "markdown",
   "source": [
    "###### 1. Matplotlib version\n",
    "[Matplotlib line plot example](https://matplotlib.org/stable/gallery/lines_bars_and_markers/simple_plot.html)\n",
    "\n",
    "`ax = plt.axes()`\n",
    "`ax.set(xlim=(<lower limit>, <upper limit>), ylim=(<lower limit>, <upper limit>), xlabel='...', ylabel='...', title='...')`\n",
    "`ax.plot(<x>, <y>, color='...', marker='<marker type>', linewidth=<number>, alpha=<number>)`\n",
    "\n",
    "Do not use `x=<x>, y=<y>` in `ax.plot()`, it generates an error. Use just `<x>, <y>`. For the other parameters, the keywords are necessary.\n",
    "\n",
    "Examples of parameters in `ax.plot()`: `color='steelblue'`, `linewidth=3`, `alpha=0.8` (alpha: transparency (0-1))."
   ],
   "metadata": {
    "collapsed": false
   }
  },
  {
   "cell_type": "code",
   "execution_count": 5,
   "outputs": [
    {
     "data": {
      "text/plain": "<Figure size 640x480 with 1 Axes>",
      "image/png": "[encoded data removed]"
     },
     "metadata": {},
     "output_type": "display_data"
    }
   ],
   "source": [
    "ax = plt.axes()\n",
    "ax.set(xlabel='Year', ylabel='Count', title='No. of songs over the years',\n",
    "       xlim=(1958, 1980), ylim=(0, 70))\n",
    "ax.plot(years, counts, marker='o', linewidth=3, alpha=0.8, color='steelblue');"
   ],
   "metadata": {
    "collapsed": false
   }
  },
  {
   "cell_type": "markdown",
   "source": [
    "###### 2. Plotnine version\n",
    "[Plotnine line plot example](https://plotnine.readthedocs.io/en/stable/generated/plotnine.geoms.geom_line.html#plotnine.geoms.geom_line)\n",
    "[Excellent tutorial on plotnine](https://realpython.com/ggplot-python/)"
   ],
   "metadata": {
    "collapsed": false
   }
  },
  {
   "cell_type": "markdown",
   "source": [
    "For some reasons, running the Matplotlib version immediately before running the Plotnine version sometimes resets all values in `year` to 1970 (!!!), so re-creating `year` here might be necessary."
   ],
   "metadata": {
    "collapsed": false
   }
  },
  {
   "cell_type": "code",
   "execution_count": null,
   "outputs": [],
   "source": [
    "# year = np.array(val_counts_sorted_by_index.index)\n",
    "# display(year)\n"
   ],
   "metadata": {
    "collapsed": false
   }
  },
  {
   "cell_type": "markdown",
   "source": [
    "If `<x>` and `<y>` values are not in a dataframe columns (`<X>` and `<Y>`) already, create a minimal dataframe to support plotting (`<df> = pd.DataFrame({'<X>': <x>, '<Y>': <y>})`)."
   ],
   "metadata": {
    "collapsed": false
   }
  },
  {
   "cell_type": "code",
   "execution_count": null,
   "outputs": [],
   "source": [
    "df = pd.DataFrame({'Year': years, 'Count': counts})"
   ],
   "metadata": {
    "collapsed": false
   }
  },
  {
   "cell_type": "markdown",
   "source": [
    "Use `ggplot` as:\n",
    "\n",
    "`(`\n",
    "&emsp;&emsp;`ggplot(<df>, aes(<x> = '<X>', <y> = '<Y>) +`\n",
    "&emsp;&emsp;`geom_line(color='<color>', size=<size>, alpha=<transparency, 0-1>, linetype='<linetype>') +`\n",
    "&emsp;&emsp;`labs(x='...', y='...')`\n",
    "`).draw();`\n",
    "\n",
    "Examples of parameters in `geom_line()`: `color='steelblue'`, `size=1`, `linetype='solid'`, `alpha=0.8` (alpha: transparency (0-1)).\n"
   ],
   "metadata": {
    "collapsed": false
   }
  },
  {
   "cell_type": "code",
   "execution_count": null,
   "outputs": [],
   "source": [
    "(\n",
    "    ggplot(df, aes('Year', 'Count')) +\n",
    "    geom_line(color='steelblue', alpha=0.8) +\n",
    "    geom_point(color='black', fill='white', size=3) +\n",
    "    labs(x='Year', y='Count', title='Count/Year')\n",
    ").draw();"
   ],
   "metadata": {
    "collapsed": false
   }
  },
  {
   "cell_type": "markdown",
   "source": [
    "###### 3. Smoothen the curves\n",
    "Based on [this](https://stackoverflow.com/a/5284038/1899061).\n",
    "`from scipy.interpolate import make_interp_spline, BSpline`\n",
    "\n",
    "`<x> = <definition of x-axis variable>`\n",
    "`<y> = <definition of y-axis variable>`\n",
    "\n",
    "`<x_smooth> = np.linspace(<x>.min(), <x>max(), 300)`&emsp;&emsp;&emsp;&emsp;# 300: the number of points to make between `<x>.min() and <x>.max()`\n",
    "`spl = make_interp_spline(year, counts, k=3)`&emsp;&emsp;&emsp;&emsp;&emsp;&emsp;&emsp; # type: BSpline\n",
    "`<y_smooth> = spl(<x>_smooth)`\n",
    "\n",
    "`plt.xlim([<lowest value of x to show on the plot>, <highest value of x to show on the plot>])`\n",
    "`plt.ylim([<lowest value of y to show on the plot>, <highest value of x to show on the plot>])`\n",
    "\n",
    "`plt.plot(<x_smooth>, <y_smooth>)`\n",
    "`plt.plot(<x>, <y>)`&emsp;&emsp;&emsp;&emsp;&emsp;&emsp;&emsp;&emsp;&emsp;&emsp;&emsp;&emsp;&emsp;&emsp;&emsp;&emsp;&emsp;&emsp;&emsp;# optional: show the segmented line on the same plot as well\n",
    "`plt.show()`\n",
    "\n"
   ],
   "metadata": {
    "collapsed": false
   }
  },
  {
   "cell_type": "code",
   "execution_count": null,
   "outputs": [],
   "source": [
    "# # 300 represents the number of points to make between T.min and T.max\n",
    "# T = np.array([6, 7, 8, 9, 10, 11, 12])\n",
    "# power = np.array([1.53E+03, 5.92E+02, 2.04E+02, 7.24E+01, 2.72E+01, 1.10E+01, 4.70E+00])\n",
    "#\n",
    "# # plt.plot(T,power)\n",
    "# # plt.show()\n",
    "#\n",
    "# xnew = np.linspace(T.min(), T.max(), 300)\n",
    "#\n",
    "# spl = make_interp_spline(T, power, k=3)  # type: BSpline\n",
    "# power_smooth = spl(xnew)\n",
    "#\n",
    "# plt.plot(xnew, power_smooth)\n",
    "# plt.show()\n",
    "\n",
    "from scipy.interpolate import make_interp_spline, BSpline\n",
    "\n",
    "year_smooth = np.linspace(years.min(), years.max(), 300)\n",
    "spl = make_interp_spline(years, counts, k=3)  # type: BSpline\n",
    "counts_smooth = spl(year_smooth)\n",
    "\n",
    "plt.xlim([1961, 1980])\n",
    "plt.ylim([0, 70])\n",
    "\n",
    "plt.plot(year_smooth, counts_smooth)\n",
    "plt.plot(years, counts)\n",
    "plt.show()\n",
    "\n",
    "# # Alternatively\n",
    "# ax = plt.axes()\n",
    "# ax.set(xlim=(years.min(), years.max()), ylim=(0, 70), xlabel='year', ylabel='count', title='Song counts over years')\n",
    "# ax.plot(years, counts, color='steelblue', linewidth=2, marker='o', alpha=0.8)\n",
    "# ax.plot(year_smooth, counts_smooth, color='steelblue', linewidth=3, alpha=0.8);"
   ],
   "metadata": {
    "collapsed": false
   }
  },
  {
   "cell_type": "markdown",
   "source": [
    "###### 4. Multiple subplots\n",
    "(shown here after [this](https://jakevdp.github.io/PythonDataScienceHandbook/04.08-multiple-subplots.html))"
   ],
   "metadata": {
    "collapsed": false
   }
  },
  {
   "cell_type": "code",
   "execution_count": null,
   "outputs": [],
   "source": [
    "# # From https://jakevdp.github.io/PythonDataScienceHandbook/04.08-multiple-subplots.html\n",
    "# fig = plt.figure()\n",
    "# ax1 = fig.add_axes([0.1, 0.55, 0.8, 0.4],\n",
    "#                    xticklabels=[], ylim=(-1.2, 1.2))\n",
    "# ax2 = fig.add_axes([0.1, 0.1, 0.8, 0.4],\n",
    "#                    ylim=(-1.2, 1.2))\n",
    "# # Meanings of the numbers in [0.1, 0.55, 0.8, 0.4]:\n",
    "# #     0.1 - distance from the left edge of fig (grey area)\n",
    "# #     0.55 - distance between the upper and lower subplots (0.5: they touch each other)\n",
    "# #     0.8 - distance from the right edge of fig (grey area)\n",
    "# #     0.4 - area assigned to the upper/lower subplot (ax1/ax2) along the vertical axes\n",
    "# # Experiment with these numbers to get a better feeling for them\n",
    "\n",
    "# x = np.linspace(0, 10)\n",
    "# ax1.plot(np.sin(x))\n",
    "# ax2.plot(np.cos(x));\n",
    "\n",
    "# fig, ax = plt.subplots()\n",
    "# ax\n",
    "\n",
    "\n",
    "fig = plt.figure()\n",
    "# fig\n",
    "ax1 = fig.add_axes([0.1, 0.65, 0.8, 0.4],\n",
    "                   xlim=(1961, 1980), ylim=(0, 70),\n",
    "                   xlabel='year', ylabel='counts',\n",
    "                   title='Number of songs recorded over the years')\n",
    "ax2 = fig.add_axes([0.1, 0.1, 0.8, 0.4],\n",
    "                   xlim=(1961, 1970), ylim=(0, 70),\n",
    "                   xlabel='year', ylabel='counts',\n",
    "                   title='Number of songs recorded over the years')\n",
    "# display(type(ax1))\n",
    "\n",
    "ax1.plot(years, counts, color='steelblue', linewidth=3, alpha=0.8)    # alpha: transparency (0-1)\n",
    "ax2.plot(years, counts, color='purple', linewidth=3, alpha=0.8);    # alpha: transparency (0-1)"
   ],
   "metadata": {
    "collapsed": false
   }
  },
  {
   "cell_type": "markdown",
   "source": [
    "##### Histogram"
   ],
   "metadata": {
    "collapsed": false
   },
   "outputs": []
  },
  {
   "cell_type": "markdown",
   "source": [
    "Use Pandas to extract song lengths as a `pd.Series` object (`<pd.Series object> = <pd.df>['<column>']`)."
   ],
   "metadata": {
    "collapsed": false
   }
  },
  {
   "cell_type": "code",
   "execution_count": null,
   "outputs": [],
   "source": [
    "# Get the song lengths as a pd.Series object\n",
    "lengths = s.Duration\n",
    "display(lengths)"
   ],
   "metadata": {
    "collapsed": false
   }
  },
  {
   "cell_type": "code",
   "execution_count": null,
   "outputs": [],
   "source": [
    "# Convert the song lengths into a NumPy array (using <song lengths>.values or np.array(<song lengths>))\n",
    "time = lengths.values"
   ],
   "metadata": {
    "collapsed": false
   }
  },
  {
   "cell_type": "markdown",
   "source": [
    "###### 1. Matplotlib version\n",
    "[Matplotlib histogram example](https://matplotlib.org/stable/gallery/statistics/hist.html)\n",
    "\n",
    "Plot the histogram of the song lengths using Matplotlib.\n",
    "\n",
    "Minimal version: `plt.hist(<x>, <number of bins>);`\n",
    "\n",
    "Alternatively:\n",
    "`ax = plt.axes()`\n",
    "`ax.set(xlabel='...', ylabel='...', title='...')`\n",
    "`ax.hist(<x>, <number of bins>)`\n",
    "\n",
    "As for the plot styles, there are a lot of [available styles](https://www.dunderdata.com/blog/view-all-available-matplotlib-styles) that can be also shown in code using `plt.style.available`. See also [this](https://www.analyticsvidhya.com/blog/2021/08/exploring-matplotlib-stylesheets-for-data-visualization/).\n",
    "\n",
    "Alternatively, plot style can be set using `sb.set_theme()` (or just `sb.set()`, but that function might get deprecated and removed from *Seaborn* in the future). See [`sb_set_theme()` documentation](https://seaborn.pydata.org/generated/seaborn.set_theme.html) for the function's parameters and defaults."
   ],
   "metadata": {
    "collapsed": false
   }
  },
  {
   "cell_type": "code",
   "execution_count": null,
   "metadata": {
    "scrolled": true
   },
   "outputs": [],
   "source": [
    "# Set plot style using sb.set_theme()\n",
    "sb.set_theme()\n",
    "# Plot the histogram - x: song time in [sec]; y: number of songs; 40 bins\n",
    "\n",
    "# # Minimal version\n",
    "# plt.hist(time, 40);\n",
    "\n",
    "# A more detailed version\n",
    "ax = plt.axes()\n",
    "ax.set(xlabel='Song duration [sec]', ylabel='Count', title='Song duration histogram')\n",
    "ax.hist(time, 40);"
   ]
  },
  {
   "cell_type": "markdown",
   "source": [
    "###### 2. Plotnine version\n",
    "[Plotnine histogram example](https://plotnine.readthedocs.io/en/stable/generated/plotnine.geoms.geom_histogram.html#plotnine.geoms.geom_histogram)\n",
    "\n",
    "Plot the histogram of the song lengths using *Plotnine*.\n",
    "\n",
    "A minimal, but effective version:\n",
    "`plot = ggplot(songs, aes(x='<x>'))`\n",
    "`plot + geom_histogram(bins=40)`\n",
    "\n",
    "A more detailed version:\n",
    "`(`\n",
    "&emsp;&emsp;`ggplot(songs, aes(x='<x>')) +`\n",
    "&emsp;&emsp;`geom_histogram(bins=40, color='<color>', fill='<fill>', size='<outline thickness>', alpha=<transparency, 0-1>) +`\n",
    "&emsp;&emsp;`labs(x='<x>', y='count', title='<title>')`\n",
    "`).draw();`\n",
    "\n",
    "[Excellent tutorial on plotnine](https://realpython.com/ggplot-python/)."
   ],
   "metadata": {
    "collapsed": false
   }
  },
  {
   "cell_type": "code",
   "execution_count": null,
   "outputs": [],
   "source": [
    "# plot = ggplot(songs, aes(x='Duration'))\n",
    "# plot + geom_histogram(bins=40)\n",
    "(\n",
    "    ggplot(s, aes(x='Duration')) +\n",
    "    geom_histogram(bins=40, color='red', fill='grey') +\n",
    "    labs(x='Duration', y='Count', title='Song duration histogram')\n",
    ").draw();"
   ],
   "metadata": {
    "collapsed": false
   }
  },
  {
   "cell_type": "markdown",
   "source": [
    "To avoid the annoying text output like `<ggplot: (177159008578)>` under the plot, use the following syntax:\n",
    "\n",
    "`(`\n",
    "&emsp;&emsp;`ggplot(songs, aes(x='<x>')) +`\n",
    "&emsp;&emsp;`geom_histogram(bins=40, color='<color>', fill='<fill>', size='<outline thickness>', alpha=<transparency, 0-1>) +`\n",
    "&emsp;&emsp;`labs(x='<x>', y='count', title='<title>')`\n",
    "`).draw();`"
   ],
   "metadata": {
    "collapsed": false
   }
  },
  {
   "cell_type": "code",
   "execution_count": null,
   "outputs": [],
   "source": [],
   "metadata": {
    "collapsed": false
   }
  },
  {
   "cell_type": "markdown",
   "source": [
    "##### Bar graph"
   ],
   "metadata": {
    "collapsed": false
   }
  },
  {
   "cell_type": "markdown",
   "source": [
    "How many Beatles songs have reached Billboard Top 50?"
   ],
   "metadata": {
    "collapsed": false
   }
  },
  {
   "cell_type": "markdown",
   "source": [
    "Read the dataset (`'../data/The Beatles songs dataset, v2.csv'`) and make some minor transformations.\n",
    "\n",
    "`pd.read_csv()` returns a `pd.DataFrame` object.\n",
    "\n",
    "As for specifying the path of the dataset properly, see [this](https://stackoverflow.com/questions/35384358/how-to-open-my-files-in-data-folder-with-pandas-using-relative-path) (more specifically, **both** [this](https://stackoverflow.com/a/35384414/1899061) and [this](https://stackoverflow.com/a/43600253/1899061))."
   ],
   "metadata": {
    "collapsed": false
   }
  },
  {
   "cell_type": "code",
   "execution_count": null,
   "outputs": [],
   "source": [
    "# Get the songs as a pd.DataFrame object from 'data/The Beatles songs dataset, v1.csv', or from\n",
    "# '../data/The Beatles songs dataset, v1.csv', or '../../data/The Beatles songs dataset, v1.csv', or ...,\n",
    "# depending on where the csv file is located\n",
    "s = pd.read_csv('../data/The Beatles songs dataset, v1.csv')"
   ],
   "metadata": {
    "collapsed": false
   }
  },
  {
   "cell_type": "markdown",
   "source": [
    "Add another column, `Top50`: a song has reached Billboard Top 50 chart (`Yes`), or it hasn't (`No`)."
   ],
   "metadata": {
    "collapsed": false
   },
   "outputs": []
  },
  {
   "cell_type": "code",
   "execution_count": null,
   "outputs": [],
   "source": [
    "s['Top50'] = 'No'\n",
    "s"
   ],
   "metadata": {
    "collapsed": false
   }
  },
  {
   "cell_type": "markdown",
   "source": [
    "Create the index of the songs that HAVE reached Billboard Top 50: `i = songs.loc[songs['Top.50.Billboard'] != -1].index` or `i = np.array(songs.loc[songs['Top.50.Billboard'] != -1].index)`."
   ],
   "metadata": {
    "collapsed": false
   }
  },
  {
   "cell_type": "code",
   "execution_count": null,
   "outputs": [],
   "source": [
    "i = s['Top.50.Billboard'] != -1\n",
    "display(i)"
   ],
   "metadata": {
    "collapsed": false
   }
  },
  {
   "cell_type": "markdown",
   "source": [
    "Change the values of `Top50` corresponding to the created index to `Yes`."
   ],
   "metadata": {
    "collapsed": false
   }
  },
  {
   "cell_type": "code",
   "execution_count": null,
   "outputs": [],
   "source": [
    "s.loc[i, 'Top50'] = 'Yes'\n",
    "s"
   ],
   "metadata": {
    "collapsed": false
   }
  },
  {
   "cell_type": "markdown",
   "source": [
    "Check if the newly added `Top50` column is now OK. Try this using the index created in the previous step, as well as using `i = songs.loc[songs['Top.50.Billboard'] != -1].index` directly."
   ],
   "metadata": {
    "collapsed": false
   }
  },
  {
   "cell_type": "code",
   "execution_count": null,
   "outputs": [],
   "source": [
    "s.loc[i, ['Title', 'Top50']]"
   ],
   "metadata": {
    "collapsed": false
   }
  },
  {
   "cell_type": "markdown",
   "source": [
    "<u>Save this version as a new *.csv* file, for use in the subsequent examples.</u> (`<pd.df>.to_csv('<path>')`)"
   ],
   "metadata": {
    "collapsed": false
   }
  },
  {
   "cell_type": "code",
   "execution_count": null,
   "outputs": [],
   "source": [
    "s.to_csv('../data/The Beatles songs dataset, v2.csv')"
   ],
   "metadata": {
    "collapsed": false
   }
  },
  {
   "cell_type": "markdown",
   "source": [
    "###### Preparing the data for plotting the bar graph"
   ],
   "metadata": {
    "collapsed": false
   }
  },
  {
   "cell_type": "markdown",
   "source": [
    "Group the data - group the songs by the year of release."
   ],
   "metadata": {
    "collapsed": false
   }
  },
  {
   "cell_type": "code",
   "execution_count": null,
   "outputs": [],
   "source": [
    "s_by_year = s.groupby('Year')"
   ],
   "metadata": {
    "collapsed": false
   }
  },
  {
   "cell_type": "markdown",
   "source": [
    "Use `get_group(<year>)` to get all songs for a selected year and `value_counts()` over the resulting group's `Top50` column (showing the `Yes` and `No` subgroups). This is a precursor to creating the data for the y-axis of the bar graph."
   ],
   "metadata": {
    "collapsed": false
   }
  },
  {
   "cell_type": "code",
   "execution_count": null,
   "outputs": [],
   "source": [
    "# s_by_year.get_group(1964)\n",
    "display(len(s_by_year.get_group(1964)))\n",
    "display(s_by_year.get_group(1964).value_counts('Top50'))\n",
    "display(type(s_by_year.get_group(1964).value_counts('Top50')))\n",
    "display(s_by_year.get_group(1964).value_counts('Top50')['Yes'])\n",
    "display(s_by_year.get_group(1964).value_counts('Top50')['No'])"
   ],
   "metadata": {
    "collapsed": false
   }
  },
  {
   "cell_type": "markdown",
   "source": [
    "Build the data to plot by extracting relevant items from each group."
   ],
   "metadata": {
    "collapsed": false
   },
   "outputs": []
  },
  {
   "cell_type": "markdown",
   "source": [
    "For x-axis, use `unique()` over the `Year` column and then `np.sort()` the results."
   ],
   "metadata": {
    "collapsed": false
   }
  },
  {
   "cell_type": "code",
   "execution_count": null,
   "outputs": [],
   "source": [
    "years_sorted = np.sort(s.Year.unique())\n",
    "display(years_sorted)"
   ],
   "metadata": {
    "collapsed": false
   }
  },
  {
   "cell_type": "markdown",
   "source": [
    "For y-axis, create the lists of the numbers of the songs that have reached Billboard Top 50 (`in_top50`) and of those that haven't (`not_in_top50`).\n",
    "(Start from two empty lists. Loop over the sorted list of years created in the previous step, `get_group()` for each year and append the `value_counts()['Yes']` of the `Top50` column of the current year (`y['Top.50']`) to `in_top50` if any of `y['Top.50']` has the value `Yes`, otherwise append 0. Do the similar thing for `not_in_top50`. Display both lists in the end to double-check the result.)"
   ],
   "metadata": {
    "collapsed": false
   }
  },
  {
   "cell_type": "code",
   "execution_count": null,
   "outputs": [],
   "source": [
    "in_Top50 = []\n",
    "not_in_Top50 = []\n",
    "for y in years_sorted:\n",
    "    g = s_by_year.get_group(y)\n",
    "    yes = g.value_counts('Top50')['Yes'] if any(g.Top50 == 'Yes') else 0\n",
    "    no = g.value_counts('Top50')['No'] if any(g.Top50 == 'No') else 0\n",
    "    in_Top50.append(yes)\n",
    "    not_in_Top50.append(no)\n",
    "display(in_Top50)\n",
    "display(not_in_Top50)"
   ],
   "metadata": {
    "collapsed": false
   }
  },
  {
   "cell_type": "markdown",
   "source": [
    "And now plot the bar graph. Based on the second example from [here](https://pandas.pydata.org/pandas-docs/stable/reference/api/pandas.DataFrame.plot.bar.html) (using `<pd.df>.plot.bar()`, not Matplotlib or Seaborn).\n",
    "For a complete list of parameters used in `**kwargs`, see [this](https://pandas.pydata.org/pandas-docs/stable/reference/api/pandas.DataFrame.plot.html).\n",
    "For a list of named colors (Matplotlib named colors), see [here](https://matplotlib.org/stable/gallery/color/named_colors.html#css-colors)."
   ],
   "metadata": {
    "collapsed": false
   }
  },
  {
   "cell_type": "markdown",
   "source": [
    "First create an auxiliary dataframe to use for plotting. Use `in_top50` and `not_in_top50` as the columns, <u>and the sorted list of years created above as the index of the dataframe</u>."
   ],
   "metadata": {
    "collapsed": false
   }
  },
  {
   "cell_type": "code",
   "execution_count": null,
   "outputs": [],
   "source": [
    "# # The role-model example from https://pandas.pydata.org/pandas-docs/stable/reference/api/pandas.DataFrame.plot.bar.html\n",
    "# speed = [0.1, 17.5, 40, 48, 52, 69, 88]\n",
    "# lifespan = [2, 8, 70, 1.5, 25, 12, 28]\n",
    "# index = ['snail', 'pig', 'elephant', 'rabbit', 'giraffe', 'coyote', 'horse']\n",
    "# df = pd.DataFrame({'speed': speed, 'lifespan': lifespan}, index=index)\n",
    "df = pd.DataFrame({'In Top50': in_Top50, 'Not in Top50': not_in_Top50}, index=years_sorted)"
   ],
   "metadata": {
    "collapsed": false
   }
  },
  {
   "cell_type": "markdown",
   "source": [
    "[Pandas bargraph example](https://pandas.pydata.org/docs/reference/api/pandas.DataFrame.plot.bar.html)\n",
    "\n",
    "Use `ax = <pd.df>.plot.bar()` to plot the bargraph.\n",
    "\n",
    "Relevant parameters:\n",
    "- `rot=<rotation angle [degrees]>` for the x-axis labels\n",
    "- `ylim=(<from>, <to>)`\n",
    "- `color={'In Top 50': 'limegreen', 'Not in Top 50': 'navajowhite'}` (for a list of Matplotlib named colors, see [here](https://matplotlib.org/stable/gallery/color/named_colors.html#css-colors))\n",
    "- `edgecolor='<color of bin lines>'`\n",
    "- `title='<title>'`\n",
    "- `xlabel='<xlabel>'`\n",
    "- `ylabel='<ylabel>'`\n",
    "- `fontsize=<fontsize>` (for all text; suitable fontsizes are 10, 12,...)\n",
    "- `stacked=True` (the bins for the same x-axis value stacked on top of one another)\n",
    "\n",
    "The returned value (`ax`) is usually unnecessary and can be omitted."
   ],
   "metadata": {
    "collapsed": false
   }
  },
  {
   "cell_type": "code",
   "execution_count": null,
   "outputs": [],
   "source": [
    "df.plot.bar(title='The Beatles songs on the Billboard Top 50 chart', xlabel='year', ylabel='count', xlim=(years.min(), years.max()), ylim=(0, 80), rot=30, color={'In Top50': 'limegreen', 'Not in Top50': 'navajowhite'}, edgecolor='grey', fontsize=12, stacked=True);"
   ],
   "metadata": {
    "collapsed": false
   }
  },
  {
   "cell_type": "markdown",
   "source": [
    "##### Box plot\n",
    "[Seaborn boxplot example](https://seaborn.pydata.org/generated/seaborn.boxplot.html) (used here as the role model)\n",
    "\n",
    "For Seaborn color palette names see [this](https://seaborn.pydata.org/generated/seaborn.color_palette.html#seaborn.color_palette) or [this](https://10xsoft.org/courses/data-analysis/mastering-data-visualization-with-python/section-4-data-visualization-using-seaborn/colour-palettes-seaborn/). To list the names of some ('quantitative') Seaborn color palettes, use `sns.palettes.SEABORN_PALETTES.keys()` (see [this](https://10xsoft.org/courses/data-analysis/mastering-data-visualization-with-python/section-4-data-visualization-using-seaborn/colour-palettes-seaborn/) and [this](https://www.codecademy.com/article/seaborn-design-ii) for additional named palettes)."
   ],
   "metadata": {
    "collapsed": false
   }
  },
  {
   "cell_type": "markdown",
   "source": [
    "Read the dataset (`'../data/The Beatles songs dataset, v2.csv'`).\n",
    "\n",
    "`pd.read_csv()` returns a `pd.DataFrame` object.\n",
    "\n",
    "As for specifying the path of the dataset properly, see [this](https://stackoverflow.com/questions/35384358/how-to-open-my-files-in-data-folder-with-pandas-using-relative-path) (more specifically, **both** [this](https://stackoverflow.com/a/35384414/1899061) and [this](https://stackoverflow.com/a/43600253/1899061))."
   ],
   "metadata": {
    "collapsed": false
   }
  },
  {
   "cell_type": "code",
   "execution_count": 21,
   "outputs": [],
   "source": [
    "# Get the songs as a pd.DataFrame object from 'data/The Beatles songs dataset, v1.csv', or from\n",
    "# '../data/The Beatles songs dataset, v1.csv', or '../../data/The Beatles songs dataset, v1.csv', or ...,\n",
    "# depending on where the csv file is located\n",
    "s = pd.read_csv('../data/The Beatles songs dataset, v1.csv')"
   ],
   "metadata": {
    "collapsed": false
   }
  },
  {
   "cell_type": "markdown",
   "source": [
    "Use `sb.boxplot()` to plot some boxplots.\n",
    "\n",
    "For a single-column boxplot, relevant parameters are `y=<pd.df>['column']` (for 'vertical' boxplot) or `x=<pd.df>['column']` (for 'horizontal' boxplot), and `palette='palette'` (e.g., 'Set3', 'pastel', ...; see the links above for other named color palettes).\n",
    "\n",
    "For a multiple-column boxplot, relevant parameters are `data=<pd.df>[['column1', 'column2',...]]`, `orient='v'` (for 'vertical' boxplot) and `palette='palette'`."
   ],
   "metadata": {
    "collapsed": false
   }
  },
  {
   "cell_type": "code",
   "execution_count": 22,
   "outputs": [
    {
     "data": {
      "text/plain": "dict_keys(['deep', 'deep6', 'muted', 'muted6', 'pastel', 'pastel6', 'bright', 'bright6', 'dark', 'dark6', 'colorblind', 'colorblind6'])"
     },
     "metadata": {},
     "output_type": "display_data"
    },
    {
     "data": {
      "text/plain": "<Figure size 640x480 with 1 Axes>",
      "image/png": "[encoded data removed]"
     },
     "metadata": {},
     "output_type": "display_data"
    }
   ],
   "source": [
    "display(sb.palettes.SEABORN_PALETTES.keys())\n",
    "\n",
    "# For a single column (e.g., Duration)\n",
    "sb.boxplot(palette='Set3', y=s.Duration);\n",
    "# For multiple columns (e.g., Other.releases and Duration)\n",
    "sb.boxplot(s[['Duration', 'Other.releases', ]], orient='v', palette='Set3').set(title='Some boxplots');"
   ],
   "metadata": {
    "collapsed": false
   }
  },
  {
   "cell_type": "markdown",
   "source": [
    "##### Violin plot\n",
    "[Seaborn violin plot example](https://seaborn.pydata.org/generated/seaborn.violinplot.html)\n",
    "\n",
    "Combines box plot and density plot. Based on [this](https://stackoverflow.com/questions/46134113/seaborn-violin-plot-from-pandas-dataframe-each-column-its-own-separate-violin-p) and [this](https://seaborn.pydata.org/generated/seaborn.violinplot.html)."
   ],
   "metadata": {
    "collapsed": false
   }
  },
  {
   "cell_type": "markdown",
   "source": [
    "Read the dataset (`'../data/The Beatles songs dataset, v2.csv'`).\n",
    "\n",
    "`pd.read_csv()` returns a `pd.DataFrame` object.\n",
    "\n",
    "As for specifying the path of the dataset properly, see [this](https://stackoverflow.com/questions/35384358/how-to-open-my-files-in-data-folder-with-pandas-using-relative-path) (more specifically, **both** [this](https://stackoverflow.com/a/35384414/1899061) and [this](https://stackoverflow.com/a/43600253/1899061))."
   ],
   "metadata": {
    "collapsed": false
   }
  },
  {
   "cell_type": "code",
   "execution_count": null,
   "outputs": [],
   "source": [
    "# Get the songs as a pd.DataFrame object from 'data/The Beatles songs dataset, v1.csv', or from\n",
    "# '../data/The Beatles songs dataset, v1.csv', or '../../data/The Beatles songs dataset, v1.csv', or ...,\n",
    "# depending on where the csv file is located\n"
   ],
   "metadata": {
    "collapsed": false
   }
  },
  {
   "cell_type": "markdown",
   "source": [
    "Use `sb.violinplot()` like: `sb.violinplot(x=<pd.df>.loc[<selected indices for <column 1>, '<column 1>'], y=<pd.df>['<column 2>'], palette='<palette>')`.\n",
    "\n",
    "For example, if the violin plot should represent density/boxplot diagram of song `Duration` in certain `Year`s, then `<column 1>` is `Year` and `<column 2>` is `Duration`. Good values for `'<palette>'` are, e.g., 'Set3', 'pastel',...).\n",
    "\n",
    "Try setting the index of selected observations both implicitly (directly in the `x` parameter) and explicitly (before the call to `sb.violinplot()`) and then using `x=<pd.df>.loc[<index>, '<column for x-axis>']`."
   ],
   "metadata": {
    "collapsed": false
   }
  },
  {
   "cell_type": "code",
   "execution_count": 27,
   "outputs": [
    {
     "data": {
      "text/plain": "<Figure size 640x480 with 1 Axes>",
      "image/png": "[encoded data removed]"
     },
     "metadata": {},
     "output_type": "display_data"
    }
   ],
   "source": [
    "sb.violinplot(x=s.loc[s.Year.isin(range(1962, 1967)), 'Year'], y=s.Duration, palette='Set3', orient='v').set(title='A title');"
   ],
   "metadata": {
    "collapsed": false
   }
  },
  {
   "cell_type": "markdown",
   "source": [
    "##### Heat map\n",
    "[Seaborn heat map example](https://seaborn.pydata.org/generated/seaborn.heatmap.html) (used here as the role model)\n",
    "\n",
    "To create a heatmap, create the corresponding pivot table first. [An intuitive visual explanation of pivot tables](https://support.microsoft.com/en-us/office/overview-of-pivottables-and-pivotcharts-527c8fa3-02c0-445a-a2db-7794676bce96#:~:text=A%20PivotTable%20is%20an%20interactive,unanticipated%20questions%20about%20your%20data.).\n"
   ],
   "metadata": {
    "collapsed": false
   }
  },
  {
   "cell_type": "markdown",
   "source": [
    "Read the dataset (`'../data/The Beatles songs dataset, v3.csv'`). This dataset already has been saved when plotting the bar graph above, so it already has the `Top50` column.\n",
    "\n",
    "`pd.read_csv()` returns a `pd.DataFrame` object.\n",
    "\n",
    "As for specifying the path of the dataset properly, see [this](https://stackoverflow.com/questions/35384358/how-to-open-my-files-in-data-folder-with-pandas-using-relative-path) (more specifically, **both** [this](https://stackoverflow.com/a/35384414/1899061) and [this](https://stackoverflow.com/a/43600253/1899061))."
   ],
   "metadata": {
    "collapsed": false
   }
  },
  {
   "cell_type": "code",
   "execution_count": 38,
   "outputs": [],
   "source": [
    "# Get the songs as a pd.DataFrame object from 'data/The Beatles songs dataset, v1.csv', or from\n",
    "# '../data/The Beatles songs dataset, v1.csv', or '../../data/The Beatles songs dataset, v1.csv', or ...,\n",
    "# depending on where the csv file is located\n",
    "s = pd.read_csv('../data/The Beatles songs dataset, v1.csv')"
   ],
   "metadata": {
    "collapsed": false
   }
  },
  {
   "cell_type": "markdown",
   "source": [
    "Categorize songs according to the number of other releases.\n",
    "Insert a new column, e.g. `Other.releases.category` and set it to the default value `Medium`. Then split the range of `Other.releases` to five subranges, `very-Low` to `very_high` (find the `max()` of `Other.releases` first). Each such a subrange is actually an index of selected songs, based on the value of `Other.releases` (e.g., `very_low = songs['Other.releases'] < 10`). Then use `<pd.df>.loc[<index of selected observations>, <relevant column>]` to change the default value `Medium` where appropriate (e.g., `songs.loc[very_low, 'Other.releases.category'] = 'Very Low'`)."
   ],
   "metadata": {
    "collapsed": false
   }
  },
  {
   "cell_type": "code",
   "execution_count": 39,
   "outputs": [
    {
     "data": {
      "text/plain": "                          Title  Other.releases Other.releases.category\n188                    No Reply              15                     Low\n76                     Get Back              28                  Medium\n178     Maxwell's Silver Hammer               8                Very Low\n113                   I Me Mine              10                     Low\n273  To Know Her is to Love Her               0                Very Low\n164            Long, Long, Long               6                Very Low\n31                 Blue Jay Way              13                     Low\n47             Cry for a Shadow               0                Very Low\n77               Getting Better               5                Very Low\n118    I Want to Hold Your Hand              34                    High",
      "text/html": "<div>\n<style scoped>\n    .dataframe tbody tr th:only-of-type {\n        vertical-align: middle;\n    }\n\n    .dataframe tbody tr th {\n        vertical-align: top;\n    }\n\n    .dataframe thead th {\n        text-align: right;\n    }\n</style>\n<table border=\"1\" class=\"dataframe\">\n  <thead>\n    <tr style=\"text-align: right;\">\n      <th></th>\n      <th>Title</th>\n      <th>Other.releases</th>\n      <th>Other.releases.category</th>\n    </tr>\n  </thead>\n  <tbody>\n    <tr>\n      <th>188</th>\n      <td>No Reply</td>\n      <td>15</td>\n      <td>Low</td>\n    </tr>\n    <tr>\n      <th>76</th>\n      <td>Get Back</td>\n      <td>28</td>\n      <td>Medium</td>\n    </tr>\n    <tr>\n      <th>178</th>\n      <td>Maxwell's Silver Hammer</td>\n      <td>8</td>\n      <td>Very Low</td>\n    </tr>\n    <tr>\n      <th>113</th>\n      <td>I Me Mine</td>\n      <td>10</td>\n      <td>Low</td>\n    </tr>\n    <tr>\n      <th>273</th>\n      <td>To Know Her is to Love Her</td>\n      <td>0</td>\n      <td>Very Low</td>\n    </tr>\n    <tr>\n      <th>164</th>\n      <td>Long, Long, Long</td>\n      <td>6</td>\n      <td>Very Low</td>\n    </tr>\n    <tr>\n      <th>31</th>\n      <td>Blue Jay Way</td>\n      <td>13</td>\n      <td>Low</td>\n    </tr>\n    <tr>\n      <th>47</th>\n      <td>Cry for a Shadow</td>\n      <td>0</td>\n      <td>Very Low</td>\n    </tr>\n    <tr>\n      <th>77</th>\n      <td>Getting Better</td>\n      <td>5</td>\n      <td>Very Low</td>\n    </tr>\n    <tr>\n      <th>118</th>\n      <td>I Want to Hold Your Hand</td>\n      <td>34</td>\n      <td>High</td>\n    </tr>\n  </tbody>\n</table>\n</div>"
     },
     "metadata": {},
     "output_type": "display_data"
    }
   ],
   "source": [
    "# s.describe()['Other.releases']              # to get a feeling for the range of Other.releases values\n",
    "s['Other.releases.category'] = 'Medium'\n",
    "# s.drop(columns=['Other.releases.category'], # to drop a column (name multiple columns in columns= if necessary)\n",
    "#        inplace=True)\n",
    "# s.sample(4)\n",
    "s.loc[s['Other.releases'] < 10, 'Other.releases.category'] = 'Very Low'\n",
    "s.loc[(s['Other.releases'] >= 10) & (s['Other.releases'] < 20), 'Other.releases.category'] = 'Low'\n",
    "s.loc[(s['Other.releases'] >= 30) & (s['Other.releases'] < 40), 'Other.releases.category'] = 'High'\n",
    "s.loc[s['Other.releases'] > 40, 'Other.releases.category'] = 'Very High'\n",
    "display(s[['Title', 'Other.releases', 'Other.releases.category']].sample(10))"
   ],
   "metadata": {
    "collapsed": false
   }
  },
  {
   "cell_type": "markdown",
   "source": [
    "Rearrange the categories of `Other.releases.category` to make the output natural.\n",
    "Use `<pd.df>['<column>'] = pd.Categorical(<pd.df>[<column>], categories=['<cat1>, <cat2>, ...'], ordered=True)`. In this example, order categories from `Very High` to `Very Low`."
   ],
   "metadata": {
    "collapsed": false
   }
  },
  {
   "cell_type": "code",
   "execution_count": 42,
   "outputs": [],
   "source": [
    "s['Other.releases.category'] = pd.Categorical(s['Other.releases.category'],\n",
    "                                              categories=['Very High', 'High', 'Medium', 'Low', 'Very Low'],\n",
    "                                              ordered=True)"
   ],
   "metadata": {
    "collapsed": false
   }
  },
  {
   "cell_type": "markdown",
   "source": [
    "Create a suitable pivot table. Use `<pivot table> = <pd.df>.pivot_table(values='<column with values to show on the heatmap>', index='<categorical index>', columns='<column>')`\n",
    "- `values`: e.g. 'Duration'\n",
    "- `index`: to be shown on y-axis, e.g. 'Other.releases.category'\n",
    "- `columns`: to be shown on x-axis, e.g. 'Year'"
   ],
   "metadata": {
    "collapsed": false
   }
  },
  {
   "cell_type": "code",
   "execution_count": 43,
   "outputs": [],
   "source": [
    "pt = s.pivot_table(values='Duration', index='Other.releases.category', columns='Year')\n",
    "# # Alternatively\n",
    "# s = songs.pivot_table(values='Duration', index=['Very Low', 'Low', 'Medium', 'High', 'Very High'], columns='Year')"
   ],
   "metadata": {
    "collapsed": false
   }
  },
  {
   "cell_type": "markdown",
   "source": [
    "Plot the corresponding heatmap. Based on [this](https://pythonbasics.org/seaborn-heatmap/), [this](https://seaborn.pydata.org/generated/seaborn.heatmap.html), and [this](https://stackoverflow.com/a/29648332/1899061).\n",
    "\n",
    "It is often a good idea to change the default figure size first, using `sb.set_theme(rc={'figure.figsize': (<x_size>, <y_size>)})`, to avoid cluttering on the heatmap. Here `rc` stands for 'run command' - essentially, configurations which will execute when running the code. Experiment with `(<x_size>, <y_size>)`. The values that have worked well in this example: (15.7, 5.27).\n",
    "\n",
    "Then use `sb.heatmap(data=<pivot table>, annot=True, fmt='<format string>', cmap='<color map>');`\n",
    "- `data=<pivot table>`: the pivot table created in the previous step\n",
    "- `annot=True`: annotate heatmap cells with values\n",
    "- `fmt='<format_string>'`: for example, use `'.0f'` to show int values in annotations, not scientific notation (`'g'` for using mixed int and float annotations)\n",
    "- `cmap='<color map>'`: color map (see [this](https://10xsoft.org/courses/data-analysis/mastering-data-visualization-with-python/section-4-data-visualization-using-seaborn/colour-palettes-seaborn/)); a good one is 'icefire'"
   ],
   "metadata": {
    "collapsed": false
   }
  },
  {
   "cell_type": "code",
   "execution_count": 44,
   "outputs": [
    {
     "data": {
      "text/plain": "<Figure size 1256x421.6 with 2 Axes>",
      "image/png": "[encoded data removed]"
     },
     "metadata": {},
     "output_type": "display_data"
    }
   ],
   "source": [
    "sb.set_theme(rc={'figure.figsize': (15.7, 5.27)})\n",
    "sb.heatmap(data=pt, annot=True, fmt='.0f', cmap='icefire');"
   ],
   "metadata": {
    "collapsed": false
   }
  },
  {
   "cell_type": "code",
   "execution_count": 45,
   "outputs": [
    {
     "data": {
      "text/plain": "            Title  Year Other.releases.category\n98       Hey Jude  1968                  Medium\n156  Lady Madonna  1968                  Medium\n213    Revolution  1968                  Medium",
      "text/html": "<div>\n<style scoped>\n    .dataframe tbody tr th:only-of-type {\n        vertical-align: middle;\n    }\n\n    .dataframe tbody tr th {\n        vertical-align: top;\n    }\n\n    .dataframe thead th {\n        text-align: right;\n    }\n</style>\n<table border=\"1\" class=\"dataframe\">\n  <thead>\n    <tr style=\"text-align: right;\">\n      <th></th>\n      <th>Title</th>\n      <th>Year</th>\n      <th>Other.releases.category</th>\n    </tr>\n  </thead>\n  <tbody>\n    <tr>\n      <th>98</th>\n      <td>Hey Jude</td>\n      <td>1968</td>\n      <td>Medium</td>\n    </tr>\n    <tr>\n      <th>156</th>\n      <td>Lady Madonna</td>\n      <td>1968</td>\n      <td>Medium</td>\n    </tr>\n    <tr>\n      <th>213</th>\n      <td>Revolution</td>\n      <td>1968</td>\n      <td>Medium</td>\n    </tr>\n  </tbody>\n</table>\n</div>"
     },
     "metadata": {},
     "output_type": "display_data"
    }
   ],
   "source": [
    "display(s.loc[(s['Other.releases.category'] == 'Medium') & (s.Year == 1968), ['Title', 'Year', 'Other.releases.category']])"
   ],
   "metadata": {
    "collapsed": false
   }
  },
  {
   "cell_type": "markdown",
   "source": [
    "##### A fancier example\n",
    "Average duration of songs over the years, represented as circles with sizes proportional to the numbers of songs."
   ],
   "metadata": {
    "collapsed": false
   }
  },
  {
   "cell_type": "code",
   "execution_count": 51,
   "outputs": [
    {
     "data": {
      "text/plain": "<Figure size 1256x421.6 with 2 Axes>",
      "image/png": "[encoded data removed]"
     },
     "metadata": {},
     "output_type": "display_data"
    }
   ],
   "source": [
    "songs = pd.read_csv('../data/The Beatles songs dataset, v2.csv')\n",
    "songs_by_year = songs.groupby('Year')\n",
    "years_1962_1970 = np.array(range(1962, 1971))\n",
    "\n",
    "avg_duration = []\n",
    "for year in years_1962_1970:\n",
    "    avg_duration.append(np.mean(songs_by_year.get_group(year)['Duration']))\n",
    "avg_duration = np.array(avg_duration)\n",
    "\n",
    "rng = np.random.RandomState(370)\n",
    "\n",
    "colors = rng.choice(100, size=len(years_1962_1970), replace=False)          # random sample, no duplicates\n",
    "# display(colors)\n",
    "\n",
    "sizes = []\n",
    "for year in years_1962_1970:\n",
    "    sizes.append(len(songs_by_year.get_group(year)) * 100)                  # sizes proportional to the numbers of songs\n",
    "\n",
    "plt.title('Song duration over the years', fontdict={'size': 20})\n",
    "plt.xlabel('Year')\n",
    "plt.ylabel('Duration')\n",
    "plt.xlim(1961, 1971)\n",
    "plt.scatter(x=years_1962_1970, y=avg_duration,\n",
    "            c=colors, s=sizes, alpha=0.3,                                   # alpha: the level of transparency\n",
    "            cmap='Set1')                                                    # cmap: a pre-defined color map\n",
    "plt.colorbar();                                                             # show color scale\n",
    "\n",
    "# # Alternatively, but without showing the colorbar\n",
    "# ax = plt.axes()\n",
    "# ax.set(xlabel='Year', ylabel='Duration', xlim=(1961, 1971),\n",
    "#        title='Song duration over the years')\n",
    "# ax.scatter(years_1962_1970, avg_duration,\n",
    "#            c=colors, s=sizes, alpha=0.3,                                    # alpha: the level of transparency\n",
    "#            cmap='Set1');                                                    # cmap: a pre-defined color map"
   ],
   "metadata": {
    "collapsed": false
   }
  },
  {
   "cell_type": "markdown",
   "source": [
    "## Masking - Boolean arrays as masks"
   ],
   "metadata": {
    "collapsed": false
   }
  },
  {
   "cell_type": "markdown",
   "source": [
    "A simple example.\n",
    "Create a small `pd.Series` object (e.g., `a`) and a boolean mask as a list of the same length (e.g., `mask`) and show the effect of running `a[mask]`."
   ],
   "metadata": {
    "collapsed": false
   }
  },
  {
   "cell_type": "code",
   "execution_count": 195,
   "outputs": [
    {
     "data": {
      "text/plain": "0    2\n1    5\n2    1\n3    7\n4    3\ndtype: int64"
     },
     "metadata": {},
     "output_type": "display_data"
    },
    {
     "data": {
      "text/plain": "0    2\n4    3\ndtype: int64"
     },
     "metadata": {},
     "output_type": "display_data"
    }
   ],
   "source": [
    "a = pd.Series([2, 5, 1, 7, 3])\n",
    "m = [True, False, False, False, True]\n",
    "display(a)\n",
    "display(a[m])"
   ],
   "metadata": {
    "collapsed": false
   }
  },
  {
   "cell_type": "markdown",
   "source": [
    "An example from the 'data/The Beatles songs dataset, v1.csv' dataset."
   ],
   "metadata": {
    "collapsed": false
   }
  },
  {
   "cell_type": "markdown",
   "source": [
    "Read the dataset."
   ],
   "metadata": {
    "collapsed": false
   }
  },
  {
   "cell_type": "code",
   "execution_count": 53,
   "outputs": [],
   "source": [
    "songs = pd.read_csv('../data/The Beatles songs dataset, v1.csv')"
   ],
   "metadata": {
    "collapsed": false
   }
  },
  {
   "cell_type": "markdown",
   "source": [
    "Extract song release years into a NumPy array (use the `values` attribute of the `Year` column)."
   ],
   "metadata": {
    "collapsed": false
   }
  },
  {
   "cell_type": "code",
   "execution_count": 54,
   "outputs": [],
   "source": [
    "years = songs.Year.values"
   ],
   "metadata": {
    "collapsed": false
   }
  },
  {
   "cell_type": "markdown",
   "source": [
    "Extract songs released after 1968.\n",
    "Create a mask (a Boolean array of the same length as `Year`), `True` if the year is greater than 1968, and show a slice of it. It is a simple relational expression, no need for `.loc[]`."
   ],
   "metadata": {
    "collapsed": false
   }
  },
  {
   "cell_type": "code",
   "execution_count": 55,
   "outputs": [
    {
     "data": {
      "text/plain": "array([False, False, False, False, False, False, False, False, False,\n       False,  True, False, False, False, False, False, False, False,\n       False, False, False, False, False, False, False, False,  True,\n        True, False, False, False, False, False, False, False, False,\n        True, False, False, False, False, False, False, False,  True,\n        True, False, False, False, False, False, False,  True,  True,\n       False, False, False, False, False,  True, False, False, False,\n       False, False, False, False, False,  True, False, False, False,\n        True,  True, False, False,  True, False, False, False, False,\n        True, False, False, False,  True, False, False, False, False,\n       False, False, False, False,  True,  True, False, False, False,\n       False, False, False, False, False, False, False, False, False,\n       False, False, False, False, False,  True, False, False, False,\n       False, False, False,  True, False, False, False, False, False,\n       False, False, False, False, False, False, False, False, False,\n       False, False, False,  True, False, False, False, False, False,\n       False, False, False, False,  True, False, False, False, False,\n       False, False, False, False, False, False,  True, False, False,\n       False, False, False, False, False, False, False, False, False,\n       False,  True,  True, False,  True, False, False,  True,  True,\n       False, False, False, False, False, False, False, False, False,\n       False, False, False, False, False, False,  True,  True,  True,\n        True, False, False, False, False, False, False, False, False,\n       False,  True, False,  True, False, False, False,  True, False,\n       False, False, False, False, False, False, False, False, False,\n        True,  True, False, False, False, False, False, False, False,\n       False, False, False,  True, False, False, False,  True, False,\n       False, False,  True, False,  True, False, False, False, False,\n       False, False,  True, False,  True, False, False, False,  True,\n       False, False, False, False, False, False, False, False, False,\n       False, False, False, False, False, False, False,  True, False,\n        True, False, False, False, False, False, False, False, False,\n       False, False, False, False, False, False, False, False, False,\n       False, False, False, False, False,  True, False, False, False,\n       False, False, False, False])"
     },
     "metadata": {},
     "output_type": "display_data"
    },
    {
     "data": {
      "text/plain": "                                                 Title  Year\n10                                All Things Must Pass  1969\n26                       Because I Know You Love Me So  1969\n27                                             Because  1969\n36                                   Carry That Weight  1969\n44                                     Come and Get It  1969\n45                                       Come Together  1969\n52                                          Dig a Pony  1969\n53                                              Dig It  1969\n59                                   Don't Let Me Down  1969\n68                           Fancy My Chances with You  1969\n72                                        For You Blue  1969\n73                                      Free as a Bird  1977\n76                                            Get Back  1969\n81                                     Golden Slumbers  1969\n85                                             Goodbye  1969\n94                                         Her Majesty  1969\n95                                  Here Comes the Sun  1969\n113                                          I Me Mine  1970\n120                        I Want You (She's So Heavy)  1969\n138                                 I've Got a Feeling  1969\n148                                    Jazz Piano Song  1969\n159                                          Let It Be  1969\n172                                             Madman  1969\n173                                         Maggie Mae  1969\n175                    Mailman, Bring Me No More Blues  1969\n178                            Maxwell's Silver Hammer  1969\n179                                   Mean Mr. Mustard  1969\n195                                   Octopus's Garden  1969\n196                                        Oh! Darling  1969\n197                                     Old Brown Shoe  1969\n198                                      One After 909  1969\n208                                      Polythene Pam  1969\n210                                          Real Love  1980\n214  Rip It Up/Shake, Rattle, and Roll/Blue Suede S...  1969\n225                             Shakin' in the Sixties  1969\n226            She Came in Through the Bathroom Window  1969\n237                                          Something  1969\n241                                           Sun King  1969\n245                          Taking a Trip to Carolina  1969\n247                                          Teddy Boy  1969\n254                        The Ballad of John and Yoko  1969\n256                                            The End  1969\n260                          The Long and Winding Road  1969\n277                                          Two of Us  1969\n279                                  Watching Rainbows  1969\n302                       You Never Give Me Your Money  1969",
      "text/html": "<div>\n<style scoped>\n    .dataframe tbody tr th:only-of-type {\n        vertical-align: middle;\n    }\n\n    .dataframe tbody tr th {\n        vertical-align: top;\n    }\n\n    .dataframe thead th {\n        text-align: right;\n    }\n</style>\n<table border=\"1\" class=\"dataframe\">\n  <thead>\n    <tr style=\"text-align: right;\">\n      <th></th>\n      <th>Title</th>\n      <th>Year</th>\n    </tr>\n  </thead>\n  <tbody>\n    <tr>\n      <th>10</th>\n      <td>All Things Must Pass</td>\n      <td>1969</td>\n    </tr>\n    <tr>\n      <th>26</th>\n      <td>Because I Know You Love Me So</td>\n      <td>1969</td>\n    </tr>\n    <tr>\n      <th>27</th>\n      <td>Because</td>\n      <td>1969</td>\n    </tr>\n    <tr>\n      <th>36</th>\n      <td>Carry That Weight</td>\n      <td>1969</td>\n    </tr>\n    <tr>\n      <th>44</th>\n      <td>Come and Get It</td>\n      <td>1969</td>\n    </tr>\n    <tr>\n      <th>45</th>\n      <td>Come Together</td>\n      <td>1969</td>\n    </tr>\n    <tr>\n      <th>52</th>\n      <td>Dig a Pony</td>\n      <td>1969</td>\n    </tr>\n    <tr>\n      <th>53</th>\n      <td>Dig It</td>\n      <td>1969</td>\n    </tr>\n    <tr>\n      <th>59</th>\n      <td>Don't Let Me Down</td>\n      <td>1969</td>\n    </tr>\n    <tr>\n      <th>68</th>\n      <td>Fancy My Chances with You</td>\n      <td>1969</td>\n    </tr>\n    <tr>\n      <th>72</th>\n      <td>For You Blue</td>\n      <td>1969</td>\n    </tr>\n    <tr>\n      <th>73</th>\n      <td>Free as a Bird</td>\n      <td>1977</td>\n    </tr>\n    <tr>\n      <th>76</th>\n      <td>Get Back</td>\n      <td>1969</td>\n    </tr>\n    <tr>\n      <th>81</th>\n      <td>Golden Slumbers</td>\n      <td>1969</td>\n    </tr>\n    <tr>\n      <th>85</th>\n      <td>Goodbye</td>\n      <td>1969</td>\n    </tr>\n    <tr>\n      <th>94</th>\n      <td>Her Majesty</td>\n      <td>1969</td>\n    </tr>\n    <tr>\n      <th>95</th>\n      <td>Here Comes the Sun</td>\n      <td>1969</td>\n    </tr>\n    <tr>\n      <th>113</th>\n      <td>I Me Mine</td>\n      <td>1970</td>\n    </tr>\n    <tr>\n      <th>120</th>\n      <td>I Want You (She's So Heavy)</td>\n      <td>1969</td>\n    </tr>\n    <tr>\n      <th>138</th>\n      <td>I've Got a Feeling</td>\n      <td>1969</td>\n    </tr>\n    <tr>\n      <th>148</th>\n      <td>Jazz Piano Song</td>\n      <td>1969</td>\n    </tr>\n    <tr>\n      <th>159</th>\n      <td>Let It Be</td>\n      <td>1969</td>\n    </tr>\n    <tr>\n      <th>172</th>\n      <td>Madman</td>\n      <td>1969</td>\n    </tr>\n    <tr>\n      <th>173</th>\n      <td>Maggie Mae</td>\n      <td>1969</td>\n    </tr>\n    <tr>\n      <th>175</th>\n      <td>Mailman, Bring Me No More Blues</td>\n      <td>1969</td>\n    </tr>\n    <tr>\n      <th>178</th>\n      <td>Maxwell's Silver Hammer</td>\n      <td>1969</td>\n    </tr>\n    <tr>\n      <th>179</th>\n      <td>Mean Mr. Mustard</td>\n      <td>1969</td>\n    </tr>\n    <tr>\n      <th>195</th>\n      <td>Octopus's Garden</td>\n      <td>1969</td>\n    </tr>\n    <tr>\n      <th>196</th>\n      <td>Oh! Darling</td>\n      <td>1969</td>\n    </tr>\n    <tr>\n      <th>197</th>\n      <td>Old Brown Shoe</td>\n      <td>1969</td>\n    </tr>\n    <tr>\n      <th>198</th>\n      <td>One After 909</td>\n      <td>1969</td>\n    </tr>\n    <tr>\n      <th>208</th>\n      <td>Polythene Pam</td>\n      <td>1969</td>\n    </tr>\n    <tr>\n      <th>210</th>\n      <td>Real Love</td>\n      <td>1980</td>\n    </tr>\n    <tr>\n      <th>214</th>\n      <td>Rip It Up/Shake, Rattle, and Roll/Blue Suede S...</td>\n      <td>1969</td>\n    </tr>\n    <tr>\n      <th>225</th>\n      <td>Shakin' in the Sixties</td>\n      <td>1969</td>\n    </tr>\n    <tr>\n      <th>226</th>\n      <td>She Came in Through the Bathroom Window</td>\n      <td>1969</td>\n    </tr>\n    <tr>\n      <th>237</th>\n      <td>Something</td>\n      <td>1969</td>\n    </tr>\n    <tr>\n      <th>241</th>\n      <td>Sun King</td>\n      <td>1969</td>\n    </tr>\n    <tr>\n      <th>245</th>\n      <td>Taking a Trip to Carolina</td>\n      <td>1969</td>\n    </tr>\n    <tr>\n      <th>247</th>\n      <td>Teddy Boy</td>\n      <td>1969</td>\n    </tr>\n    <tr>\n      <th>254</th>\n      <td>The Ballad of John and Yoko</td>\n      <td>1969</td>\n    </tr>\n    <tr>\n      <th>256</th>\n      <td>The End</td>\n      <td>1969</td>\n    </tr>\n    <tr>\n      <th>260</th>\n      <td>The Long and Winding Road</td>\n      <td>1969</td>\n    </tr>\n    <tr>\n      <th>277</th>\n      <td>Two of Us</td>\n      <td>1969</td>\n    </tr>\n    <tr>\n      <th>279</th>\n      <td>Watching Rainbows</td>\n      <td>1969</td>\n    </tr>\n    <tr>\n      <th>302</th>\n      <td>You Never Give Me Your Money</td>\n      <td>1969</td>\n    </tr>\n  </tbody>\n</table>\n</div>"
     },
     "metadata": {},
     "output_type": "display_data"
    }
   ],
   "source": [
    "m = years > 1968\n",
    "display(m)\n",
    "display(songs.loc[m, ['Title', 'Year']])"
   ],
   "metadata": {
    "collapsed": false
   }
  },
  {
   "cell_type": "markdown",
   "source": [
    "Get the titles of the first 10 songs released after 1968.\n",
    "Use indexing with the mask created in the previous step."
   ],
   "metadata": {
    "collapsed": false
   }
  },
  {
   "cell_type": "code",
   "execution_count": 56,
   "outputs": [
    {
     "data": {
      "text/plain": "10             All Things Must Pass\n26    Because I Know You Love Me So\n27                          Because\n36                Carry That Weight\n44                  Come and Get It\n45                    Come Together\n52                       Dig a Pony\n53                           Dig It\n59                Don't Let Me Down\n68        Fancy My Chances with You\nName: Title, dtype: object"
     },
     "metadata": {},
     "output_type": "display_data"
    }
   ],
   "source": [
    "# Get the titles of the first 10 songs such that years > 1968\n",
    "display(songs.loc[m, 'Title'].head(10))"
   ],
   "metadata": {
    "collapsed": false
   }
  },
  {
   "cell_type": "markdown",
   "source": [
    "Get the titles of the last 10 songs such that `years > 1968` and `times < 120`.\n",
    "Create two simple masks, one for `Year` and another one for `Duration`, and use `&` in indexing the relevant observations in the dataframe. Remember to use the `values` attribute of both columns to convert the values to NumPy arrays."
   ],
   "metadata": {
    "collapsed": false
   }
  },
  {
   "cell_type": "code",
   "execution_count": 57,
   "outputs": [
    {
     "data": {
      "text/plain": "36                           Carry That Weight\n53                                      Dig It\n81                             Golden Slumbers\n94                                 Her Majesty\n173                                 Maggie Mae\n175            Mailman, Bring Me No More Blues\n179                           Mean Mr. Mustard\n208                              Polythene Pam\n226    She Came in Through the Bathroom Window\nName: Title, dtype: object"
     },
     "metadata": {},
     "output_type": "display_data"
    }
   ],
   "source": [
    "# Get the titles of the last 10 songs such that years > 1968 and times < 120\n",
    "times = songs.Duration.values < 120\n",
    "# display(times)\n",
    "display(songs.loc[m & times, 'Title'].tail(10))"
   ],
   "metadata": {
    "collapsed": false
   }
  },
  {
   "cell_type": "markdown",
   "source": [
    "Get the titles of all songs released 1966 or 1967, as well as the mean value of their lengths.\n",
    "Create an appropriate mask for years, and use `np.mean()` to show the mean value of the lengths of the songs extracted using the mask."
   ],
   "metadata": {
    "collapsed": false
   }
  },
  {
   "cell_type": "code",
   "execution_count": 58,
   "outputs": [
    {
     "data": {
      "text/plain": "1                                    A Day in the Life\n11                                    All Together Now\n12                                All You Need Is Love\n14                              And Your Bird Can Sing\n21                             Baby, You're a Rich Man\n28                  Being for the Benefit of Mr. Kite!\n31                                        Blue Jay Way\n41                      Christmas Time (Is Here Again)\n56                                       Doctor Robert\n63                                       Eleanor Rigby\n69                                       Fixing a Hole\n70                                              Flying\n71                                          For No One\n77                                      Getting Better\n82                                   Good Day Sunshine\n83                          Good Morning, Good Morning\n86                         Got to Get You into My Life\n91                                      Hello, Goodbye\n96                          Here, There and Everywhere\n104                                    I Am the Walrus\n119                                 I Want to Tell You\n134                                  I'm Only Sleeping\n146                                  It's All Too Much\n149                                     Jessie's Dream\n168                                        Love You To\n169                                        Lovely Rita\n171                      Lucy in the Sky with Diamonds\n174                               Magical Mystery Tour\n200                               Only a Northern Song\n203                                   Paperback Writer\n204                                         Penny Lane\n209                                               Rain\n223    Sgt. Pepper's Lonely Hearts Club Band (Reprise)\n224              Sgt. Pepper's Lonely Hearts Club Band\n228                                  She Said She Said\n230                                 She's Leaving Home\n240                          Strawberry Fields Forever\n246                                             Taxman\n257                               The Fool on the Hill\n274                               Tomorrow Never Knows\n285                                When I'm Sixty-Four\n290                 With a Little Help from My Friends\n291                             Within You Without You\n294                                   Yellow Submarine\n299              You Know My Name (Look Up the Number)\n309                            Your Mother Should Know\nName: Title, dtype: object"
     },
     "metadata": {},
     "output_type": "display_data"
    },
    {
     "data": {
      "text/plain": "180.47826086956522"
     },
     "metadata": {},
     "output_type": "display_data"
    }
   ],
   "source": [
    "y = (songs.Year.values == 1966) | (songs.Year.values == 1967)\n",
    "display(songs.loc[y, 'Title'])\n",
    "display(np.mean(songs.loc[y, 'Duration']))"
   ],
   "metadata": {
    "collapsed": false
   }
  },
  {
   "cell_type": "markdown",
   "source": [
    "## Fancy indexing\n",
    "Fancy indexing is like simple indexing, but arrays of indices are passed in place of single scalars."
   ],
   "metadata": {
    "collapsed": false
   }
  },
  {
   "cell_type": "markdown",
   "source": [
    "Create an array of 10 random integers (using `np.random.seed(<seed>)`, `<array> = np.random.randint(10, size=10)`) and a list of a couple of indices to select the relevant values from the array. Try also changing the values at these indices only."
   ],
   "metadata": {
    "collapsed": false
   }
  },
  {
   "cell_type": "code",
   "execution_count": 59,
   "outputs": [
    {
     "data": {
      "text/plain": "array([7, 2, 3, 4, 4, 1, 7, 2, 5, 6])"
     },
     "metadata": {},
     "output_type": "display_data"
    },
    {
     "data": {
      "text/plain": "array([2, 1, 5])"
     },
     "metadata": {},
     "output_type": "display_data"
    }
   ],
   "source": [
    "np.random.seed(12)\n",
    "a = np.random.randint(1, 10, 10)\n",
    "display(a)\n",
    "b = [1, 5, 8]\n",
    "display(a[b])"
   ],
   "metadata": {
    "collapsed": false
   }
  },
  {
   "cell_type": "markdown",
   "source": [
    "## Sorting arrays"
   ],
   "metadata": {
    "collapsed": false
   }
  },
  {
   "cell_type": "markdown",
   "source": [
    "Create an `np.array` of `int` values and demonstrate that `np.sort(<np.array>)` does not change the array, whereas the `<np.array>.sort()` does (inplace sorting)."
   ],
   "metadata": {
    "collapsed": false
   }
  },
  {
   "cell_type": "code",
   "execution_count": 60,
   "outputs": [
    {
     "data": {
      "text/plain": "array([7, 2, 3, 4, 4, 1, 7, 2, 5, 6])"
     },
     "metadata": {},
     "output_type": "display_data"
    },
    {
     "data": {
      "text/plain": "array([1, 2, 2, 3, 4, 4, 5, 6, 7, 7])"
     },
     "metadata": {},
     "output_type": "display_data"
    },
    {
     "data": {
      "text/plain": "array([7, 2, 3, 4, 4, 1, 7, 2, 5, 6])"
     },
     "metadata": {},
     "output_type": "display_data"
    },
    {
     "data": {
      "text/plain": "None"
     },
     "metadata": {},
     "output_type": "display_data"
    },
    {
     "data": {
      "text/plain": "array([1, 2, 2, 3, 4, 4, 5, 6, 7, 7])"
     },
     "metadata": {},
     "output_type": "display_data"
    }
   ],
   "source": [
    "np.random.seed(12)\n",
    "a = np.random.randint(1, 10, 10)\n",
    "display(a)\n",
    "display(np.sort(a))\n",
    "display(a)\n",
    "display(a.sort())\n",
    "display(a)"
   ],
   "metadata": {
    "collapsed": false
   }
  },
  {
   "cell_type": "markdown",
   "source": [
    "The `np.argsort()` function returns the *indices* that would sort an array."
   ],
   "metadata": {
    "collapsed": false
   }
  },
  {
   "cell_type": "markdown",
   "source": [
    "What are the longest and the shortest Beatles songs?"
   ],
   "metadata": {
    "collapsed": false
   }
  },
  {
   "cell_type": "markdown",
   "source": [
    "Read the dataset, 'data/The Beatles songs dataset, v1.csv'."
   ],
   "metadata": {
    "collapsed": false
   }
  },
  {
   "cell_type": "code",
   "execution_count": 62,
   "outputs": [],
   "source": [
    "songs = pd.read_csv('../data/The Beatles songs dataset, v1.csv')"
   ],
   "metadata": {
    "collapsed": false
   }
  },
  {
   "cell_type": "markdown",
   "source": [
    "Extract `times` - song durations - from the `values` attribute of the `Duration` column and pass it to `np.argsort()` to get the index that sorts the song times in the ascending order. To sort in descending order, use `(-<np.array>).argsort()` or `<index> = np.argsort(-<np.array>)` (see [this](https://stackoverflow.com/questions/16486252/is-it-possible-to-use-argsort-in-descending-order)).\n",
    "Use the index created that way to print the titles and the durations of, e.g., ten longest songs and ten shortest songs. It boils down to fancy indexing the `Title` and `Duration` columns with the index created that way."
   ],
   "metadata": {
    "collapsed": false
   }
  },
  {
   "cell_type": "markdown",
   "source": [],
   "metadata": {
    "collapsed": false
   }
  },
  {
   "cell_type": "code",
   "execution_count": 63,
   "outputs": [
    {
     "data": {
      "text/plain": "                            Title  Duration\n212                  Revolution 9       502\n120   I Want You (She's So Heavy)       467\n98                       Hey Jude       431\n146             It's All Too Much       388\n283      What's The New Mary Jane       372\n1               A Day in the Life       335\n291        Within You Without You       305\n286  While My Guitar Gently Weeps       286\n104               I Am the Walrus       273\n93                 Helter Skelter       270",
      "text/html": "<div>\n<style scoped>\n    .dataframe tbody tr th:only-of-type {\n        vertical-align: middle;\n    }\n\n    .dataframe tbody tr th {\n        vertical-align: top;\n    }\n\n    .dataframe thead th {\n        text-align: right;\n    }\n</style>\n<table border=\"1\" class=\"dataframe\">\n  <thead>\n    <tr style=\"text-align: right;\">\n      <th></th>\n      <th>Title</th>\n      <th>Duration</th>\n    </tr>\n  </thead>\n  <tbody>\n    <tr>\n      <th>212</th>\n      <td>Revolution 9</td>\n      <td>502</td>\n    </tr>\n    <tr>\n      <th>120</th>\n      <td>I Want You (She's So Heavy)</td>\n      <td>467</td>\n    </tr>\n    <tr>\n      <th>98</th>\n      <td>Hey Jude</td>\n      <td>431</td>\n    </tr>\n    <tr>\n      <th>146</th>\n      <td>It's All Too Much</td>\n      <td>388</td>\n    </tr>\n    <tr>\n      <th>283</th>\n      <td>What's The New Mary Jane</td>\n      <td>372</td>\n    </tr>\n    <tr>\n      <th>1</th>\n      <td>A Day in the Life</td>\n      <td>335</td>\n    </tr>\n    <tr>\n      <th>291</th>\n      <td>Within You Without You</td>\n      <td>305</td>\n    </tr>\n    <tr>\n      <th>286</th>\n      <td>While My Guitar Gently Weeps</td>\n      <td>286</td>\n    </tr>\n    <tr>\n      <th>104</th>\n      <td>I Am the Walrus</td>\n      <td>273</td>\n    </tr>\n    <tr>\n      <th>93</th>\n      <td>Helter Skelter</td>\n      <td>270</td>\n    </tr>\n  </tbody>\n</table>\n</div>"
     },
     "metadata": {},
     "output_type": "display_data"
    }
   ],
   "source": [
    "times = songs.Duration\n",
    "i = np.argsort(-times)\n",
    "# display(i)\n",
    "display(songs.loc[i, ['Title', 'Duration']].head(10))"
   ],
   "metadata": {
    "collapsed": false
   }
  }
 ],
 "metadata": {
  "kernelspec": {
   "display_name": "Python 3 (ipykernel)",
   "language": "python",
   "name": "python3"
  },
  "language_info": {
   "codemirror_mode": {
    "name": "ipython",
    "version": 3
   },
   "file_extension": ".py",
   "mimetype": "text/x-python",
   "name": "python",
   "nbconvert_exporter": "python",
   "pygments_lexer": "ipython3",
   "version": "3.10.0"
  }
 },
 "nbformat": 4,
 "nbformat_minor": 4
}
